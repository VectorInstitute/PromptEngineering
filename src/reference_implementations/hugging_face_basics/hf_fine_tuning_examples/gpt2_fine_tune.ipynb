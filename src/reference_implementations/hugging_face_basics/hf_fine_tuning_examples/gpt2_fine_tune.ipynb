{
 "cells": [
  {
   "attachments": {},
   "cell_type": "markdown",
   "metadata": {},
   "source": [
    "%pip install transformers, datasets, torch"
   ]
  },
  {
   "cell_type": "code",
   "execution_count": null,
   "metadata": {},
   "outputs": [],
   "source": [
    "import torch\n",
    "import torch.nn as nn\n",
    "from torch import cuda\n",
    "from transformers import GPT2Config, GPT2ForSequenceClassification, GPT2Tokenizer\n",
    "\n",
    "from src.reference_implementations.hugging_face_basics.hf_fine_tuning_examples.ag_news_dataloader import (\n",
    "    construct_ag_news_dataloaders,\n",
    ")\n",
    "from src.reference_implementations.hugging_face_basics.hf_fine_tuning_examples.ag_news_trainer import infer, train\n",
    "from src.reference_implementations.hugging_face_basics.hf_fine_tuning_examples.gpt2_classification_model import (\n",
    "    Gpt2ClsModel,\n",
    ")"
   ]
  },
  {
   "attachments": {},
   "cell_type": "markdown",
   "metadata": {},
   "source": [
    "Setup the dataloaders"
   ]
  },
  {
   "cell_type": "code",
   "execution_count": null,
   "metadata": {},
   "outputs": [],
   "source": [
    "gpt2_tokenizer = GPT2Tokenizer.from_pretrained(\"gpt2\")\n",
    "# Define PAD Token = EOS Token = 50256\n",
    "gpt2_tokenizer.pad_token = gpt2_tokenizer.eos_token\n",
    "pad_token_id = gpt2_tokenizer.encode(gpt2_tokenizer.eos_token)[0]\n",
    "\n",
    "train_dataloader, val_dataloader, test_dataloader = construct_ag_news_dataloaders(\n",
    "    batch_size=32, train_split_ratio=0.8, tokenizer=gpt2_tokenizer\n",
    ")"
   ]
  },
  {
   "attachments": {},
   "cell_type": "markdown",
   "metadata": {},
   "source": [
    "Setup the different variables we'd like for training"
   ]
  },
  {
   "cell_type": "code",
   "execution_count": null,
   "metadata": {},
   "outputs": [],
   "source": [
    "device = \"cuda\" if cuda.is_available() else \"cpu\"\n",
    "print(f\"Detected Device {device}\")\n",
    "# We'll provide two options. First we create our own model on top of the vanilla RoBERTa model. The second is to use\n",
    "# HuggingFace's RobertaForSequenceClassification class, which essentially does the same thing.\n",
    "use_hf_sequence_classification = True\n",
    "gpt2_model_config = GPT2Config.from_pretrained(pretrained_model_name_or_path=\"gpt2\", num_labels=4)\n",
    "gpt2_model_config.pad_token_id = pad_token_id\n",
    "gpt2_classifier_model = (\n",
    "    GPT2ForSequenceClassification.from_pretrained(\"gpt2\", gpt2_model_config)\n",
    "    if use_hf_sequence_classification\n",
    "    else Gpt2ClsModel(pad_token_id=pad_token_id)\n",
    ")\n",
    "loss_function = nn.CrossEntropyLoss()\n",
    "n_training_epochs = 1"
   ]
  },
  {
   "attachments": {},
   "cell_type": "markdown",
   "metadata": {},
   "source": [
    "Train the model on the training dataset"
   ]
  },
  {
   "cell_type": "code",
   "execution_count": null,
   "metadata": {},
   "outputs": [],
   "source": [
    "print(\"Begin Model Training...\")\n",
    "train(gpt2_classifier_model, train_dataloader, val_dataloader, loss_function, device, n_training_epochs)\n",
    "print(\"Training Complete\")"
   ]
  },
  {
   "attachments": {},
   "cell_type": "markdown",
   "metadata": {},
   "source": [
    "Save the final model to disk"
   ]
  },
  {
   "cell_type": "code",
   "execution_count": null,
   "metadata": {},
   "outputs": [],
   "source": [
    "print(\"Saving model...\")\n",
    "output_model_file = \"./gpt2_ag_news.bin\"\n",
    "torch.save(gpt2_classifier_model, output_model_file)\n",
    "print(\"Model saved.\")"
   ]
  },
  {
   "attachments": {},
   "cell_type": "markdown",
   "metadata": {},
   "source": [
    "Load model back up and perform inference on the test set"
   ]
  },
  {
   "cell_type": "code",
   "execution_count": null,
   "metadata": {},
   "outputs": [],
   "source": [
    "print(\"Loading model...\")\n",
    "gpt2_classifier_model = torch.load(output_model_file)\n",
    "print(\"Model loaded.\")\n",
    "\n",
    "print(\"Evaluating model on test set...\")\n",
    "infer(gpt2_classifier_model, loss_function, test_dataloader, device)\n",
    "print(\"Model evaluated.\")"
   ]
  }
 ],
 "metadata": {
  "kernelspec": {
   "display_name": "hf_fine_tune_env",
   "language": "python",
   "name": "python3"
  },
  "language_info": {
   "codemirror_mode": {
    "name": "ipython",
    "version": 3
   },
   "file_extension": ".py",
   "mimetype": "text/x-python",
   "name": "python",
   "nbconvert_exporter": "python",
   "pygments_lexer": "ipython3",
   "version": "3.9.16"
  },
  "orig_nbformat": 4
 },
 "nbformat": 4,
 "nbformat_minor": 2
}
