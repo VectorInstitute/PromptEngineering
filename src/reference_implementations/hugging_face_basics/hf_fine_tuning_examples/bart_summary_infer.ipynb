{
 "cells": [
  {
   "cell_type": "code",
   "execution_count": null,
   "metadata": {},
   "outputs": [],
   "source": [
    "import evaluate\n",
    "from datasets import load_dataset\n",
    "from torch import cuda\n",
    "from torch.utils.data import DataLoader\n",
    "from transformers import BartTokenizer, pipeline"
   ]
  },
  {
   "cell_type": "markdown",
   "metadata": {},
   "source": [
    "Let's start by just running a few example summarizations on the pretrained [BART](https://arxiv.org/abs/1910.13461) model. Note that the CNN part of the name refers to the training dataset for the model (CNN Daily Mail) rather than an architecture. We'll take a few examples from the CNN Daily Mail test set.\n",
    "\n",
    "The CNN Daily Mail dataset consists of CNN news articles accompanied by a \"highlights\" column summarizing the main points of the text. These summaries are written by the article authors themselves.\n",
    "\n",
    "This notebook takes advantage of the [HuggingFace Transformers library](https://huggingface.co/docs/transformers/index). So we encourage you to familiarize yourself with it."
   ]
  },
  {
   "cell_type": "code",
   "execution_count": null,
   "metadata": {},
   "outputs": [],
   "source": [
    "# Determine whether cuda and a GPU are available to speed up processing\n",
    "device = 0 if cuda.is_available() else -1\n",
    "device_str = \"cuda\" if device == 0 else \"cpu\"\n",
    "print(f\"Detected Device {device_str}\")\n",
    "\n",
    "# Specify the task (summarization) and the model for inference.\n",
    "summarizer = pipeline(\"summarization\", model=\"facebook/bart-large-cnn\", device=device)\n",
    "\n",
    "article_1 = \"\"\"QUEBEC, Canada -- Third seed Julia Vakulenko will face comeback queen Lindsay Davenport in her first WTA Tour final at the Bell Challenge on Sunday. Julia Vakulenko will seek her first victory on the WTA Tour at the Bell Challenge in Quebec. The Ukrainian battled through with a 6-1 4-6 7-5 victory over American qualifier Julie Ditty in the semifinals. The 24-year-old, who reached the fourth round of the U.S. Open, had previously twice lost at the last-four stage this year in Las Vegas and Berlin. She reached a career high of 33rd in the world rankings back in May, but is now 36th. \"Sometimes you play your best and win easy, but sometimes you don't play your best and really have to fight hard,\" said Vakulenko, who squandered points for 5-3 leads in both the second and third sets. \"I'm just going to try my best -- I've never played her and I'm looking forward to it.\" Former world No. 1 Davenport is seeking her second win in three tournaments since returning from a one-year hiatus to have a baby. The 31-year-old, who is unseeded after accepting a wild-card to enter the Canadian tournament for the first time, also had to battle to beat Russian second seed Vera Zvonareva 6-2 6-7 (3-7) 6-3 in the semifinals. The three-time Grand Slam winner has surged back up the rankings from 234th to 126th after winning her comeback tournament in Bali and then reaching the last four in Beijing. The American has now beaten Zvonareva in all six encounters between the two players. \"I played well in the first set and had some chances early in the second set, but I didn't quite capitalize on them. I was able to come back but at 4-4 and 5-5 I just didn't return well enough,\" Davenport said. \"I was happy I was able to regroup in the third set. Physically I feel good. There are lots of positives I can take from it, especially beating a really good player and now being in the final. \"I want to be the one on the offensive and not the defensive, and that's what I'm going to try to do. \"I was trying to watch the first semifinal and see if that helped, but I play so much differently than Julie Ditty that it was hard to get anything from it.\" E-mail to a friend .\"\"\"  # noqa E501\n",
    "summary_1 = \"\"\"Julia Vakulenko has reached her first final on the WTA Tour at Bell Challenge . The Ukrainian third seed will face Lindsay Davenport after beating Julie Ditty . Former world No. 1 Davenport defeated Russian second seed Vera Zvonareva .\"\"\"  # noqa E501\n",
    "\n",
    "article_2 = \"\"\"SAN DIEGO, California (CNN) -- More than 100 homes in an upscale San Diego community were evacuated after a landslide about 60 yards wide pulled the earth from beneath a three-lane road and some of the multimillion-dollar homes that adorn it. Gina Yarbrough sent this picture of the road that collapsed in Wednesday's landslide. Mayor Jerry Sanders declared a state of emergency, asking California and the federal government to help the La Jolla community recover from the Wednesday landslide. As of Thursday morning, he had already received offers of aid from legislators, the governor's office and the White House, he said. Officials warned for at least two weeks that the ground was shifting beneath the hillside community along Soledad Mountain Road. Holes were drilled into the unsettled hillside to investigate the cause and magnitude of the shift, which earlier ruptured a water line, and according to some media reports, began cracking Soledad Mountain Road in July. On Wednesday, a 20-foot-deep chasm opened beneath the road and homes. Holli Weld told San Diego's KGTV that she was walking her son to preschool when the street collapsed. Watch a resident recall how he had to grab his dogs and run » . \"The street was sinking before our eyes,\" she said. Authorities told KGTV that most residents were at work and only seven people were in their homes when the landslide occurred. Evacuated homeowner Russell Moore told CNN he remembers hearing the earth \"groan\" in what he called a \"slow avalanche.\" \"The asphalt that should be under my feet was 8 feet in the air,\" Moore said. \"We watched the trees snapping and cracking and more boulders come down to our feet and we were witnessing this move.\" See photos of the hole the landslide left in La Jolla » . At least 111 homes were evacuated, but Sanders said residents would be allowed to return to 75 of those houses by early Thursday morning. Several homes were damaged and at least one was destroyed, according to media reports. Nine homes are \"red tagged,\" meaning no one is allowed to enter them, and 27 more are \"yellow tagged,\" which means residents can return for necessities, but cannot stay, Sanders said. According to the San Diego Union-Tribune, the landslide downed power lines and caused a minor gas leak. More than 2,400 customers were briefly left without electricity, but most residents had their power restored by Thursday, KGTV reported. The Red Cross opened a shelter at La Jolla High School. Deputy city engineer Robert Hawk told the Union-Tribune that the hillside has slowly been slipping for years because the soil is unstable. Landslide incidents in the neighborhood date back to the 1960s, Hawk told the newspaper. Pat Abbott, a retired geological sciences professor at San Diego State University, told the Union-Tribune that Mount Soledad is made up of weak layers of rock and that the culprit in the landslide is nature. \"Gravity pulling on the incline is pulling down masses of earth and those masses of earth have houses on top of them,\" Abbott told the paper. \"It's a geologically bad site and should not have been built on to begin with.\" E-mail to a friend .\"\"\"  # noqa E501\n",
    "summary_2 = \"\"\"San Diego mayor declares state of emergency; White House, governor offer aid . Officials were investigating the shifting earth in the area for weeks . Residents can return to 75 of the 111 evacuated homes Thursday, mayor says . \"We watched the trees snapping and cracking,\" says one evacuated resident .\"\"\"  # noqa E501\n",
    "\n",
    "article_3 = \"\"\"WASHINGTON (CNN) -- A wide-open presidential race and a willingness by candidates, interest groups, unions and corporations to buy TV time will lead to historic spending for political and issue-advocacy advertising in the 2008 election cycle, an analysis shows. Former Massachusetts Gov. Mitt Romney has spent the most on TV advertising so far among presidential contenders. The cost to try to influence the 2008 election could exceed $3 billion, according to TNS Media Intelligence/Campaign Media Analysis Group, CNN's consultant on political television advertising. This is nearly twice as much than what was spent in 2004 when political and issue-advocacy television advertising rang in at $1.7 billion. In 2006, $2.3 billion was spent on political and issue-advocacy TV commercials. Just about every candidate running for an office from dogcatcher to president is spending the money, said Evan Tracey, CMAG's chief operating officer. The costs to produce a TV commercial are no longer prohibitive for local and state candidates, who are turning more and more to the airwaves to reach voters. See how spending breaks down for this year » . And interest groups have spent $6.2 million on TV ads so far this year for state and local ballot measures. On the national level, the cost of issue-advocacy television ad spending was $270 million in the first nine months of this year. Subjects ranged from the Iraq war to telecommunications reform. Television ads on health care alone total $60 million. CMAG estimates more than $3 million of the $270 million spent to air issue-advocacy ads this year has gone for commercials in states and districts that are likely to have competitive House and Senate races in 2008. Tracey said he thinks this is just the beginning of interest groups \"pivoting from legislative advocacy mode to political mode.\" \"What we expect to see between now and the end of the primaries, and through the general election, is groups will take a more aggressive stance on their advertising and actually target candidates,\" he said. With 17 Democratic and Republican candidates running for president, CMAG predicts that more than $800 million will be spent on TV ads in the battle for the White House. Up to now, the political commercials have been largely focused on the early states of Iowa, New Hampshire and South Carolina. Voters in some of the 20-plus states holding nominating contests on February 5 will start seeing ads in the coming months. Former Massachusetts Gov. Mitt Romney leads all candidates in TV spending, having aired his commercials more than 11,000 times this year at a cost of nearly $8.6 million. This is a record for the number of airings at this point in a presidential election cycle. Watch how Romney is way ahead in ad spending » . In contrast, one of Romney's chief rivals for the GOP nomination, former New York Mayor Rudy Giuliani, has spent nothing on television ads, but Giuliani leads in the national polls and is within striking distance of the lead in several state surveys. Giuliani enjoys widespread national name recognition, while Romney does not. In the race for the Democratic nomination, Illinois Sen. Barack Obama has spent more than $2.3 million on television commercials, while New York Sen. Hillary Clinton has spent $1 million less and leads in both national and early state polls. New Mexico Gov. Bill Richardson has probably benefited the most in the Democratic contest from the $2 million he has invested in his television commercials. Richardson's humorous TV ads effectively stated his experience as a lawmaker, diplomat and executive, and positioned him as a solid second-tier candidate. Romney used his $8.6 million in television ads to introduce himself as a social and fiscal conservative to Republican voters. These voters might otherwise not know much about him other than that he was the governor of the traditionally liberal Massachusetts. Romney is leading polls in the early voting states of Iowa and New Hampshire. Further evidence of how Romney's television commercials have helped is in South Carolina. An American Research Group poll of South Carolina Republicans in August showed Romney registering at 9 percent with these influential primary voters. A month later, and with $350,000 worth of commercials aired in the two weeks leading up to the next poll, Romney was up 17 percentage points. Romney's latest ad began airing Friday in Iowa, and in it he vows to stop Iran from acquiring nuclear weapons, to boost the military by 100,000 people, to strengthen U.S. intelligence capabilities and to monitor calls into the U.S. from al Qaeda. All of these issues should play well with conservatives who participate in the Iowa caucuses. While only a handful of Democratic candidates and Romney have used the airwaves until now, Tracey said he expects this to change. \"Before the end of October, I suspect all the frontrunner candidates will be on the air,\" Tracey said. \"As we get closer to primary day, the frontrunners will be joined by all the candidates in the race who are taking their last, best shot.\" In the fight for Congress, CMAG predicts that as much as $639 million could be spent on television advertising. Democrats control the House and Senate. Tracey noted that CMAG's 2008 election cycle forecast does not take into account unforeseen events such as former Florida Rep. Mark Foley's House page scandal or the September 11 terrorist attacks. \"Politics is completely beholden to events,\" he said. \"Events will ultimately determine how much is spent, where and when.\" What television advertising challenges do candidates and interest groups face in the coming months? \"Chances are, just as what happened in 2006, voters will be numb after watching hundred and hundreds of ads,\" said Stuart Rothenberg, editor of the non-partisan Rothenberg Political Report. \"The sheer number of ads probably dilutes their importance. After a while, the ads just become lots of chatter and an ad will have to be really good to cut through the noise.\" E-mail to a friend .\"\"\"  # noqa E501\n",
    "summary_3 = \"\"\"Amount almost double what was spent in 2004 election cycle . Lower TV production costs help more candidates advertise . Mitt Romney leads presidential candidates in TV spending . Advertisers face challenge of cutting through clutter of ads, analyst says .\"\"\"  # noqa E501"
   ]
  },
  {
   "cell_type": "code",
   "execution_count": null,
   "metadata": {},
   "outputs": [],
   "source": [
    "# Create an instance of a BART tokanizer.\n",
    "bart_tokenizer = BartTokenizer.from_pretrained(\"facebook/bart-large\")"
   ]
  },
  {
   "cell_type": "markdown",
   "metadata": {},
   "source": [
    "Some of the articles will be too long for the BART model maximum sequence length of 1024. For some reason, the pipeline doesn't truncate. So we do it ourselves."
   ]
  },
  {
   "cell_type": "code",
   "execution_count": null,
   "metadata": {},
   "outputs": [],
   "source": [
    "def truncate_article_text(article_text: str, tokenizer: BartTokenizer, max_sequence_length: int = 1023) -> str:\n",
    "    tokenized_article = tokenizer.encode(article_text, truncation=True, max_length=max_sequence_length)\n",
    "    return tokenizer.decode(tokenized_article, skip_special_tokens=True)"
   ]
  },
  {
   "cell_type": "code",
   "execution_count": null,
   "metadata": {},
   "outputs": [],
   "source": [
    "truncated_article_3 = truncate_article_text(article_3, bart_tokenizer)\n",
    "truncated_article_3"
   ]
  },
  {
   "cell_type": "code",
   "execution_count": null,
   "metadata": {},
   "outputs": [],
   "source": [
    "predicted_summary_1 = summarizer(truncate_article_text(article_1, bart_tokenizer), max_length=130, min_length=30)\n",
    "print(f\"Summary: {predicted_summary_1[0]['summary_text']}\")\n",
    "print(f\"Reference: {summary_1}\")"
   ]
  },
  {
   "cell_type": "code",
   "execution_count": null,
   "metadata": {},
   "outputs": [],
   "source": [
    "predicted_summary_2 = summarizer(truncate_article_text(article_2, bart_tokenizer), max_length=130, min_length=30)\n",
    "print(f\"Summary: {predicted_summary_2[0]['summary_text']}\")\n",
    "print(f\"Reference: {summary_2}\")"
   ]
  },
  {
   "cell_type": "code",
   "execution_count": null,
   "metadata": {},
   "outputs": [],
   "source": [
    "predicted_summary_3 = summarizer(truncate_article_text(article_3, bart_tokenizer), max_length=130, min_length=30)\n",
    "print(f\"Summary: {predicted_summary_3[0]['summary_text']}\")\n",
    "print(f\"Reference: {summary_3}\")"
   ]
  },
  {
   "cell_type": "markdown",
   "metadata": {},
   "source": [
    "The summaries seem quite good, at least from a qualitative reading perspective. However, let's get an objective measure of the quality through a ROUGE-1 score. ROUGE (Recall-Oriented Understudy for Gisting Evaluation) is a set of metrics for evaluating summarization and translation models. At a very high level ROUGE-1 measures the overlap of unigrams (single words) between a generated summary and the ground truth. For a more detailed description of how ROUGE scores work see `src/reference_implementations/hugging_face_basics/nlp_metrics_examples.ipynb`. \n",
    "\n",
    "On the HF scoreboard for the CNN Daily Mail, the authors measured a ROUGE-1 score of 42.949 on the test set, which is quite high. We'll load up 320 samples (of the nearly 12k in the test set) and measure the score on that subsample (as an example).\n",
    "\n",
    "__Note__: This takes quite a bit of time to run all the way through. You can always reduce the `max_batches` value to speed it up"
   ]
  },
  {
   "cell_type": "code",
   "execution_count": null,
   "metadata": {},
   "outputs": [],
   "source": [
    "dataset = load_dataset(\"cnn_dailymail\", \"3.0.0\")"
   ]
  },
  {
   "cell_type": "code",
   "execution_count": null,
   "metadata": {},
   "outputs": [],
   "source": [
    "dataloader = DataLoader(dataset[\"test\"], shuffle=False, batch_size=32)\n",
    "rouge = evaluate.load(\"rouge\")\n",
    "max_batches = 5\n",
    "batch_rouge_scores = []\n",
    "for batch_number, batch in enumerate(dataloader, 1):\n",
    "    if batch_number > max_batches:\n",
    "        break\n",
    "    print(f\"Processing Batch: {batch_number}\")\n",
    "    truncated_articles = [truncate_article_text(text, bart_tokenizer) for text in batch[\"article\"]]\n",
    "    # Summaries come out of the summarizer pipline as a list of dictionaries for some reason\n",
    "    summaries = [summary[\"summary_text\"] for summary in summarizer(truncated_articles, max_length=130, min_length=30)]\n",
    "    # References for the metric need to be in the form of list of lists\n",
    "    # (ROUGE can admit multiple references per prediction)\n",
    "    highlights = [[highlight] for highlight in batch[\"highlights\"]]\n",
    "    results = rouge.compute(\n",
    "        predictions=summaries,\n",
    "        references=highlights,\n",
    "        rouge_types=[\"rouge1\"],\n",
    "    )\n",
    "    batch_rouge_scores.append(results[\"rouge1\"])\n",
    "# Average all the ROUGE 1 scores together for the final one\n",
    "print(f\"Final Rouge Score: {sum(batch_rouge_scores)/len(batch_rouge_scores)}\")"
   ]
  }
 ],
 "metadata": {
  "kernelspec": {
   "display_name": "prompt_engineering",
   "language": "python",
   "name": "prompt_engineering"
  },
  "language_info": {
   "codemirror_mode": {
    "name": "ipython",
    "version": 3
   },
   "file_extension": ".py",
   "mimetype": "text/x-python",
   "name": "python",
   "nbconvert_exporter": "python",
   "pygments_lexer": "ipython3",
   "version": "3.9.10"
  }
 },
 "nbformat": 4,
 "nbformat_minor": 2
}
