{
 "cells": [
  {
   "cell_type": "code",
   "execution_count": null,
   "metadata": {},
   "outputs": [],
   "source": [
    "import torch\n",
    "import torch.nn as nn\n",
    "from custom_dataloaders import construct_dataloaders\n",
    "from hf_trainer import infer, train\n",
    "from roberta_classification_model import RobertaClsModel\n",
    "from torch import cuda\n",
    "from transformers import AutoModelForSequenceClassification, AutoTokenizer"
   ]
  },
  {
   "cell_type": "markdown",
   "metadata": {},
   "source": [
    "Choose your dataset. Make sure that the number of classes in your model matches the number of different labels in that dataset."
   ]
  },
  {
   "cell_type": "code",
   "execution_count": null,
   "metadata": {},
   "outputs": [],
   "source": [
    "# AG News Dataset for classifying news headlines.\n",
    "dataset_name = \"ag_news\"\n",
    "dataset_num_labels = 4\n",
    "\n",
    "# Uncomment the code below to use the SST2 dataset for sentiment analysis.\n",
    "# NOTE: If you're going to use the SST2 dataset, you need to make sure that use_hf_sequence_classification = True\n",
    "# The custom RoBERTa model is only defined for ag_news.\n",
    "# NOTE: For SST2 to train well, you'll need to adjust the learning rate and weight decay in the hf_trainer file\n",
    "# A good place to start is lr=0.00001, weight_decay=0.001\n",
    "# dataset_name = \"SetFit/sst2\"\n",
    "# dataset_num_labels = 2"
   ]
  },
  {
   "cell_type": "markdown",
   "metadata": {},
   "source": [
    "Choose your pre-trained model and setup the dataloaders.\n",
    "\n",
    "By default, the HuggingFace Transformer models will provide the dense hidden states of the last layer, one vector for each token in the input. These vectors are not directly usable for our task of classification at the sequence level. While they can be combined using the \"attention mechanism\" into a single class-specific sequence-level representation, we opt for an easier solution here.\n",
    "\n",
    "This can be done by adding a \"classification head\"- a linear projection layer (`nn.Dense`)- on top of one of these token vectors in the output. For bi-directional encoder-only transformers such as BERT and RoBERTa, there is a special token at the beginning of the input, \\[CLS\\], that contains information about the entire document. This layer will be added on top of the vector of the \\[CLS\\] token. For decoder-only transformers such as GPT and OPT, this projection layer might be added to the last non-pad token in the sentence.\n",
    "\n",
    "The HuggingFace Transformers library provides a convenient way to add this layer to your pre-trained model. For a wide range of base models including RoBERTa and OPT, you can load the pre-trained model with the projection layer added and initialized for you using the `AutoModelForSequenceClassification` class:\n",
    "\n",
    "```python\n",
    "model = AutoModelForSequenceClassification.from_pretrained(\"roberta-base\")\n",
    "```\n",
    "\n",
    "To demonstrate how this useful abstraction works, we've manually added a classification head on top of a HuggingFace [**RoBERTa**](https://arxiv.org/abs/1907.11692) model in a custom torch.nn module. The RoBERTa model is very similar to the BERT model, with a few minor differences. For example the next-sentence prediction task was removed in pretraining of RoBERTa.\n",
    "\n",
    "We encourage you to take a look at our implementation in *roberta_classification_model.py* and see whether the behavior differs from that of AutoModelForSequenceClassification. Note that there is also an implementation of the \"decoder-only\" style head in *gpt2_classification_model.py*.\n",
    "\n",
    "Please note that if you need to experiment with a base model other than RoBERTa- for example, OPT- you will need to set `use_hf_sequence_classification = False` and use the HuggingFace AutoModelForSequenceClassification instead. "
   ]
  },
  {
   "cell_type": "code",
   "execution_count": null,
   "metadata": {},
   "outputs": [],
   "source": [
    "# NOTE: If you're going to use the SST2 dataset, you need to make sure that use_hf_sequence_classification = True\n",
    "# The custom RoBERTa model is only defined for ag_news\n",
    "use_hf_sequence_classification = True  # set to True to use the HuggingFace abstraction\n",
    "hf_model_name = \"roberta-base\"\n",
    "\n",
    "# Uncomment the code below to use facebook/opt-125m as the base model.\n",
    "# Note that using OPT-125m requires the use_hf_sequence_classification = True\n",
    "# use_hf_sequence_classification = True\n",
    "# hf_model_name = \"facebook/opt-125m\"  # Also try \"facebook/opt-125m\" for OPT."
   ]
  },
  {
   "cell_type": "code",
   "execution_count": null,
   "metadata": {},
   "outputs": [],
   "source": [
    "# Create a tokenizer instance for a pretrained model vocabulary.\n",
    "tokenizer = AutoTokenizer.from_pretrained(hf_model_name)\n",
    "\n",
    "# Set the maximum number of tokens in each input.\n",
    "tokenizer.model_max_length = 512\n",
    "# Create data loader objects for train, validation, and test splits.\n",
    "train_dataloader, val_dataloader, test_dataloader = construct_dataloaders(\n",
    "    batch_size=8, train_split_ratio=0.8, tokenizer=tokenizer, dataset_name=dataset_name\n",
    ")"
   ]
  },
  {
   "cell_type": "markdown",
   "metadata": {},
   "source": [
    "Setup the different variables we'd like for training"
   ]
  },
  {
   "cell_type": "code",
   "execution_count": null,
   "metadata": {},
   "outputs": [],
   "source": [
    "device = \"cuda\" if cuda.is_available() else \"cpu\"\n",
    "print(f\"Detected Device {device}\")\n",
    "# We'll provide two options. First we create our own model on top of the vanilla RoBERTa model. The second is to use\n",
    "# HuggingFace's AutoModel class, which essentially does the same thing for RoBERTa, but with support additional base\n",
    "# models such as OPT and GPT-J.\n",
    "classifier_model = (\n",
    "    AutoModelForSequenceClassification.from_pretrained(hf_model_name, num_labels=dataset_num_labels)\n",
    "    if use_hf_sequence_classification\n",
    "    else RobertaClsModel()\n",
    ")\n",
    "loss_function = nn.CrossEntropyLoss()\n",
    "n_training_epochs = 1\n",
    "n_training_steps = 300"
   ]
  },
  {
   "cell_type": "markdown",
   "metadata": {},
   "source": [
    "Train the model on the training dataset"
   ]
  },
  {
   "cell_type": "code",
   "execution_count": null,
   "metadata": {},
   "outputs": [],
   "source": [
    "print(\"Begin Model Training...\")\n",
    "# Initiates an Adam optimizer and runs the training loop.\n",
    "train(\n",
    "    classifier_model,\n",
    "    train_dataloader,\n",
    "    val_dataloader,\n",
    "    loss_function,\n",
    "    device,\n",
    "    n_training_epochs,\n",
    "    n_training_steps,\n",
    ")\n",
    "print(\"Training Complete\")"
   ]
  },
  {
   "cell_type": "markdown",
   "metadata": {},
   "source": [
    "Once training is complete, we save the fine-tuned model to disk."
   ]
  },
  {
   "cell_type": "code",
   "execution_count": null,
   "metadata": {},
   "outputs": [],
   "source": [
    "print(\"Saving model...\")\n",
    "hf_model_name_formatted = hf_model_name.split(\"/\")[-1]\n",
    "dataset_name_formatted = dataset_name.split(\"/\")[-1]\n",
    "output_model_file = f\"./{hf_model_name_formatted}_{dataset_name_formatted}.bin\"\n",
    "torch.save(classifier_model, output_model_file)\n",
    "print(\"Model saved to\", output_model_file)"
   ]
  },
  {
   "cell_type": "markdown",
   "metadata": {},
   "source": [
    "Next, we load the model saved above, perform inference on the test set and measure loss and accuracy."
   ]
  },
  {
   "cell_type": "code",
   "execution_count": null,
   "metadata": {},
   "outputs": [],
   "source": [
    "print(\"Loading model...\")\n",
    "classifier_model = torch.load(output_model_file)\n",
    "print(\"Model loaded.\")\n",
    "\n",
    "print(\"Evaluating model on test set...\")\n",
    "test_accuracy, test_loss = infer(classifier_model, loss_function, test_dataloader, device)\n",
    "print(f\"Test Loss: {test_loss}\")\n",
    "print(f\"Test Accuracy: {test_accuracy}%\")\n",
    "print(\"Model evaluated.\")"
   ]
  }
 ],
 "metadata": {
  "kernelspec": {
   "display_name": "prompt_engineering",
   "language": "python",
   "name": "prompt_engineering"
  },
  "language_info": {
   "codemirror_mode": {
    "name": "ipython",
    "version": 3
   },
   "file_extension": ".py",
   "mimetype": "text/x-python",
   "name": "python",
   "nbconvert_exporter": "python",
   "pygments_lexer": "ipython3",
   "version": "3.9.10"
  }
 },
 "nbformat": 4,
 "nbformat_minor": 2
}
