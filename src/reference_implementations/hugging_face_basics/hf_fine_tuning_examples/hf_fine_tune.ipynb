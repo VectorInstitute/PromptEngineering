{
 "cells": [
  {
   "cell_type": "code",
   "execution_count": 1,
   "metadata": {},
   "outputs": [],
   "source": [
    "import torch\n",
    "import torch.nn as nn\n",
    "from ag_news_trainer import infer, train\n",
    "from custom_dataloaders import construct_dataloaders\n",
    "from roberta_classification_model import RobertaClsModel\n",
    "from torch import cuda\n",
    "from transformers import AutoModelForSequenceClassification, AutoTokenizer"
   ]
  },
  {
   "attachments": {},
   "cell_type": "markdown",
   "metadata": {},
   "source": [
    "Choose your dataset. Make sure that the number of classes in your model matches the number of different labels in that dataset."
   ]
  },
  {
   "cell_type": "code",
   "execution_count": 2,
   "metadata": {},
   "outputs": [],
   "source": [
    "# AG News Dataset for classifying news headlines.\n",
    "dataset_name = \"ag_news\"\n",
    "dataset_num_labels = 4\n",
    "\n",
    "# Uncomment the code below to use the SST2 dataset for sentiment analysis.\n",
    "# dataset_name = \"SetFit/sst2\"\n",
    "# dataset_num_labels = 2"
   ]
  },
  {
   "attachments": {},
   "cell_type": "markdown",
   "metadata": {},
   "source": [
    "Choose your pre-trained model and setup the dataloaders.\n",
    "\n",
    "By default, the HuggingFace Transformer models will provide the dense hidden states of the last layer, one vector for each token in the input. These vectors are not directly usable for our task of classification at the sequence level. \n",
    "\n",
    "One popular way to address this limitation is to add a \"classification head\"- a linear projection layer (`nn.Dense`)- on top of one of these token vectors in the output. For bi-directional encoder-only transformers such as BERT and RoBERTa, this layer will be added to the virtual token \\[CLS\\] at the beginning of the input. For decoder-only transformers such as GPT and OPT, this projection layer might be added to the last token in the sentence.\n",
    "\n",
    "HuggingFace provides a convenient way to add this layer to your pre-trained model. For a wide range of base models including RoBERTa and OPT, you can load the pre-trained model with the projection layer added and initialized for you using the `AutoModelForSequenceClassification` class:\n",
    "\n",
    "```python\n",
    "model = AutoModelForSequenceClassification.from_pretrained(\"roberta-base\")\n",
    "```\n",
    "\n",
    "To demonstrate how this useful abstraction works, we've manually added a classification head on top of a HuggingFace **RoBERTa** model in a custom torch.nn module. We encourage you to take a look at our implementation in *roberta_classification_model.py* and see whether the behavior differs from that of AutoModelForSequenceClassification.\n",
    "\n",
    "Please note that if you need to experiment with a base model other than RoBERTa- for example, OPT- you will need to set `use_hf_sequence_classification = False` and use the HuggingFace AutoModelForSequenceClassification instead. "
   ]
  },
  {
   "cell_type": "code",
   "execution_count": 3,
   "metadata": {},
   "outputs": [],
   "source": [
    "use_hf_sequence_classification = True  # set to True to use the HuggingFace abstraction\n",
    "hf_model_name = \"roberta-base\"\n",
    "\n",
    "# Uncomment the code below to use facebook/opt-125m as the base model.\n",
    "# hf_model_name = \"facebook/opt-125m\"  # Also try \"facebook/opt-125m\" for OPT."
   ]
  },
  {
   "cell_type": "code",
   "execution_count": 4,
   "metadata": {},
   "outputs": [
    {
     "name": "stderr",
     "output_type": "stream",
     "text": [
      "Using custom data configuration SetFit--sst2-67a650649f1843ed\n",
      "Found cached dataset json (/h/jacobtian/.cache/huggingface/datasets/SetFit___json/SetFit--sst2-67a650649f1843ed/0.0.0/0f7e3662623656454fcd2b650f34e886a7db4b9104504885bd462096cc7a9f51)\n"
     ]
    },
    {
     "data": {
      "application/vnd.jupyter.widget-view+json": {
       "model_id": "250d1b0fa2c04902ad387b2f58482c35",
       "version_major": 2,
       "version_minor": 0
      },
      "text/plain": [
       "  0%|          | 0/3 [00:00<?, ?it/s]"
      ]
     },
     "metadata": {},
     "output_type": "display_data"
    },
    {
     "name": "stderr",
     "output_type": "stream",
     "text": [
      "Loading cached processed dataset at /h/jacobtian/.cache/huggingface/datasets/SetFit___json/SetFit--sst2-67a650649f1843ed/0.0.0/0f7e3662623656454fcd2b650f34e886a7db4b9104504885bd462096cc7a9f51/cache-bc484d555683536b.arrow\n",
      "Loading cached processed dataset at /h/jacobtian/.cache/huggingface/datasets/SetFit___json/SetFit--sst2-67a650649f1843ed/0.0.0/0f7e3662623656454fcd2b650f34e886a7db4b9104504885bd462096cc7a9f51/cache-81dd03f68d4653bb.arrow\n"
     ]
    },
    {
     "data": {
      "application/vnd.jupyter.widget-view+json": {
       "model_id": "942eb3d6c0704278b96acac3207d05b2",
       "version_major": 2,
       "version_minor": 0
      },
      "text/plain": [
       "  0%|          | 0/1 [00:00<?, ?ba/s]"
      ]
     },
     "metadata": {},
     "output_type": "display_data"
    },
    {
     "name": "stdout",
     "output_type": "stream",
     "text": [
      "Training data example encoding: tensor([    0,   627,   822,  6822, 36112,     8, 24631,  5322, 14613,    59,\n",
      "            5,   604,     8,  6271,   639,     5, 31947,     9,    84,  5518,\n",
      "          479,     2,     1,     1,     1,     1,     1,     1,     1,     1,\n",
      "            1,     1,     1,     1,     1,     1,     1,     1,     1,     1,\n",
      "            1,     1,     1,     1,     1,     1,     1,     1,     1,     1,\n",
      "            1,     1,     1,     1,     1,     1,     1,     1,     1,     1,\n",
      "            1,     1,     1,     1,     1,     1,     1,     1,     1,     1,\n",
      "            1,     1,     1,     1,     1,     1,     1,     1,     1,     1,\n",
      "            1,     1,     1,     1,     1,     1,     1,     1,     1,     1,\n",
      "            1,     1,     1,     1,     1,     1,     1,     1,     1,     1,\n",
      "            1,     1,     1,     1,     1,     1,     1,     1,     1,     1,\n",
      "            1,     1,     1,     1,     1,     1,     1,     1,     1,     1,\n",
      "            1,     1,     1,     1,     1,     1,     1,     1,     1,     1,\n",
      "            1,     1,     1,     1,     1,     1,     1,     1,     1,     1,\n",
      "            1,     1,     1,     1,     1,     1,     1,     1,     1,     1,\n",
      "            1,     1,     1,     1,     1,     1,     1,     1,     1,     1,\n",
      "            1,     1,     1,     1,     1,     1,     1,     1,     1,     1,\n",
      "            1,     1,     1,     1,     1,     1,     1,     1,     1,     1,\n",
      "            1,     1,     1,     1,     1,     1,     1,     1,     1,     1,\n",
      "            1,     1,     1,     1,     1,     1,     1,     1,     1,     1,\n",
      "            1,     1,     1,     1,     1,     1,     1,     1,     1,     1,\n",
      "            1,     1,     1,     1,     1,     1,     1,     1,     1,     1,\n",
      "            1,     1,     1,     1,     1,     1,     1,     1,     1,     1,\n",
      "            1,     1,     1,     1,     1,     1,     1,     1,     1,     1,\n",
      "            1,     1,     1,     1,     1,     1,     1,     1,     1,     1,\n",
      "            1,     1,     1,     1,     1,     1])\n",
      "Training data example decoding: the film presents visceral and dangerously honest revelations about the men and machines behind the curtains of our planet.\n"
     ]
    }
   ],
   "source": [
    "tokenizer = AutoTokenizer.from_pretrained(hf_model_name)\n",
    "\n",
    "# Set the maximum number of tokens in each input.\n",
    "tokenizer.model_max_length = 512\n",
    "train_dataloader, val_dataloader, test_dataloader = construct_dataloaders(\n",
    "    batch_size=8, train_split_ratio=0.8, tokenizer=tokenizer, dataset_name=dataset_name\n",
    ")"
   ]
  },
  {
   "attachments": {},
   "cell_type": "markdown",
   "metadata": {},
   "source": [
    "Setup the different variables we'd like for training"
   ]
  },
  {
   "cell_type": "code",
   "execution_count": 5,
   "metadata": {},
   "outputs": [
    {
     "name": "stdout",
     "output_type": "stream",
     "text": [
      "Detected Device cuda\n"
     ]
    },
    {
     "name": "stderr",
     "output_type": "stream",
     "text": [
      "Some weights of the model checkpoint at roberta-base were not used when initializing RobertaForSequenceClassification: ['lm_head.dense.weight', 'roberta.pooler.dense.bias', 'lm_head.layer_norm.bias', 'roberta.pooler.dense.weight', 'lm_head.bias', 'lm_head.dense.bias', 'lm_head.decoder.weight', 'lm_head.layer_norm.weight']\n",
      "- This IS expected if you are initializing RobertaForSequenceClassification from the checkpoint of a model trained on another task or with another architecture (e.g. initializing a BertForSequenceClassification model from a BertForPreTraining model).\n",
      "- This IS NOT expected if you are initializing RobertaForSequenceClassification from the checkpoint of a model that you expect to be exactly identical (initializing a BertForSequenceClassification model from a BertForSequenceClassification model).\n",
      "Some weights of RobertaForSequenceClassification were not initialized from the model checkpoint at roberta-base and are newly initialized: ['classifier.dense.bias', 'classifier.dense.weight', 'classifier.out_proj.bias', 'classifier.out_proj.weight']\n",
      "You should probably TRAIN this model on a down-stream task to be able to use it for predictions and inference.\n"
     ]
    }
   ],
   "source": [
    "device = \"cuda\" if cuda.is_available() else \"cpu\"\n",
    "print(f\"Detected Device {device}\")\n",
    "# We'll provide two options. First we create our own model on top of the vanilla RoBERTa model. The second is to use\n",
    "# HuggingFace's AutoModel class, which essentially does the same thing for RoBERTa, but with support additional base\n",
    "# models such as OPT and GPT-J.\n",
    "use_hf_sequence_classification = True\n",
    "classifier_model = (\n",
    "    AutoModelForSequenceClassification.from_pretrained(hf_model_name, num_labels=4)\n",
    "    if use_hf_sequence_classification\n",
    "    else RobertaClsModel()\n",
    ")\n",
    "loss_function = nn.CrossEntropyLoss()\n",
    "n_training_epochs = 1\n",
    "n_training_steps = 300"
   ]
  },
  {
   "attachments": {},
   "cell_type": "markdown",
   "metadata": {},
   "source": [
    "Train the model on the training dataset"
   ]
  },
  {
   "cell_type": "code",
   "execution_count": 6,
   "metadata": {},
   "outputs": [
    {
     "name": "stdout",
     "output_type": "stream",
     "text": [
      "Begin Model Training...\n",
      "Starting Epoch 0\n",
      "Completed batch number: 100 of 865 in loader\n",
      "Training Loss over last 100 steps: 0.7442980140447617\n",
      "Training Accuracy over last 100 steps: 51.60891089108911%\n",
      "Validation Loss: 0.7657924312002519\n",
      "Validation Accuracy: 53.18627450980392%\n",
      "Completed batch number: 200 of 865 in loader\n",
      "Training Loss over last 100 steps: 0.7040593826770782\n",
      "Training Accuracy over last 100 steps: 51.625%\n",
      "Validation Loss: 0.6995559767180798\n",
      "Validation Accuracy: 48.529411764705884%\n",
      "Completed batch number: 300 of 865 in loader\n",
      "Training Loss over last 100 steps: 0.7071005907654763\n",
      "Training Accuracy over last 100 steps: 50.5%\n",
      "Validation Loss: 0.699187203949573\n",
      "Validation Accuracy: 49.754901960784316%\n",
      "------------------------------------------------\n",
      "Training Loss Epoch: 0.7160989991652214\n",
      "Validation Loss: 0.6991446477557541\n",
      "Validation accuracy: 49.08256880733945\n",
      "------------------------------------------------\n",
      "Training Complete\n"
     ]
    }
   ],
   "source": [
    "print(\"Begin Model Training...\")\n",
    "train(\n",
    "    classifier_model,\n",
    "    train_dataloader,\n",
    "    val_dataloader,\n",
    "    loss_function,\n",
    "    device,\n",
    "    n_training_epochs,\n",
    "    n_training_steps,\n",
    ")\n",
    "print(\"Training Complete\")"
   ]
  },
  {
   "attachments": {},
   "cell_type": "markdown",
   "metadata": {},
   "source": [
    "Save the final model to disk"
   ]
  },
  {
   "cell_type": "code",
   "execution_count": 7,
   "metadata": {},
   "outputs": [
    {
     "name": "stdout",
     "output_type": "stream",
     "text": [
      "Saving model...\n",
      "Model saved to ./roberta-base_sst2.bin\n"
     ]
    }
   ],
   "source": [
    "print(\"Saving model...\")\n",
    "hf_model_name_formatted = hf_model_name.split(\"/\")[-1]\n",
    "dataset_name_formatted = dataset_name.split(\"/\")[-1]\n",
    "output_model_file = f\"./{hf_model_name_formatted}_{dataset_name_formatted}.bin\"\n",
    "torch.save(classifier_model, output_model_file)\n",
    "print(\"Model saved to\", output_model_file)"
   ]
  },
  {
   "attachments": {},
   "cell_type": "markdown",
   "metadata": {},
   "source": [
    "Load model back up and perform inference on the test set"
   ]
  },
  {
   "cell_type": "code",
   "execution_count": 9,
   "metadata": {},
   "outputs": [
    {
     "name": "stdout",
     "output_type": "stream",
     "text": [
      "Loading model...\n",
      "Model loaded.\n",
      "Evaluating model on test set...\n",
      "Test Loss: 0.6990747673992526\n",
      "Test Accuracy: 50.08237232289951%\n",
      "Model evaluated.\n"
     ]
    }
   ],
   "source": [
    "print(\"Loading model...\")\n",
    "classifier_model = torch.load(output_model_file)\n",
    "print(\"Model loaded.\")\n",
    "\n",
    "print(\"Evaluating model on test set...\")\n",
    "test_accuracy, test_loss = infer(classifier_model, loss_function, test_dataloader, device)\n",
    "print(f\"Test Loss: {test_loss}\")\n",
    "print(f\"Test Accuracy: {test_accuracy}%\")\n",
    "print(\"Model evaluated.\")"
   ]
  }
 ],
 "metadata": {
  "kernelspec": {
   "display_name": "hf_fine_tune_env",
   "language": "python",
   "name": "python3"
  },
  "language_info": {
   "codemirror_mode": {
    "name": "ipython",
    "version": 3
   },
   "file_extension": ".py",
   "mimetype": "text/x-python",
   "name": "python",
   "nbconvert_exporter": "python",
   "pygments_lexer": "ipython3",
   "version": "3.9.10"
  },
  "orig_nbformat": 4
 },
 "nbformat": 4,
 "nbformat_minor": 2
}
