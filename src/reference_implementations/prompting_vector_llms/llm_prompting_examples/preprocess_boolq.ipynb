{
 "cells": [
  {
   "cell_type": "code",
   "execution_count": 18,
   "metadata": {},
   "outputs": [],
   "source": [
    "import json\n",
    "from random import sample\n",
    "\n",
    "import pandas as pd"
   ]
  },
  {
   "cell_type": "code",
   "execution_count": 21,
   "metadata": {},
   "outputs": [],
   "source": [
    "test_data_tuples = []\n",
    "example_data_tuples = []\n",
    "with open(\"resources/boolq_task_datasets/full_test_set.json\") as file:\n",
    "    data = json.load(file)[\"dataset\"]\n",
    "    test_data = sample(data, 100)\n",
    "    example_data = sample(data, 10)\n",
    "    for data_tuple in test_data:\n",
    "        question_text = data_tuple[\"question\"]\n",
    "        title_text = data_tuple[\"title\"]\n",
    "        answer_text = data_tuple[\"answer\"]\n",
    "        passage_text = data_tuple[\"passage\"]\n",
    "        test_data_tuples.append((title_text, passage_text, question_text, answer_text))\n",
    "\n",
    "    for data_tuple in example_data:\n",
    "        question_text = data_tuple[\"question\"]\n",
    "        title_text = data_tuple[\"title\"]\n",
    "        answer_text = data_tuple[\"answer\"]\n",
    "        passage_text = data_tuple[\"passage\"]\n",
    "        example_data_tuples.append((title_text, passage_text, question_text, answer_text))"
   ]
  },
  {
   "cell_type": "code",
   "execution_count": 26,
   "metadata": {},
   "outputs": [],
   "source": [
    "test_df = pd.DataFrame(test_data_tuples, columns=[\"Title\", \"Passage\", \"Question\", \"Answer\"])\n",
    "example_df = pd.DataFrame(example_data_tuples, columns=[\"Title\", \"Passage\", \"Question\", \"Answer\"])\n",
    "\n",
    "test_df.to_csv(\"resources/boolq_task_datasets/test_sample_dataset.csv\")\n",
    "example_df.to_csv(\"resources/boolq_task_datasets/example_dataset.csv\")"
   ]
  }
 ],
 "metadata": {
  "kernelspec": {
   "display_name": "opt_notebook",
   "language": "python",
   "name": "python3"
  },
  "language_info": {
   "codemirror_mode": {
    "name": "ipython",
    "version": 3
   },
   "file_extension": ".py",
   "mimetype": "text/x-python",
   "name": "python",
   "nbconvert_exporter": "python",
   "pygments_lexer": "ipython3",
   "version": "3.9.16"
  },
  "orig_nbformat": 4
 },
 "nbformat": 4,
 "nbformat_minor": 2
}
