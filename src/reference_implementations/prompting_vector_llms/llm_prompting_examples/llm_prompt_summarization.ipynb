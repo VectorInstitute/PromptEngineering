{
 "cells": [
  {
   "cell_type": "code",
   "execution_count": 2,
   "metadata": {},
   "outputs": [],
   "source": [
    "import time\n",
    "\n",
    "import lingua"
   ]
  },
  {
   "attachments": {},
   "cell_type": "markdown",
   "metadata": {},
   "source": [
    "# Getting Started\n",
    "\n",
    "There is a bit of documentation on how to interact with the large models [here](https://lingua-sdk.readthedocs.io/en/latest/getting_started.html). The relevant github links to the SDK are [here](https://github.com/VectorInstitute/lingua-sdk) and underlying code [here](https://github.com/VectorInstitute/lingua)."
   ]
  },
  {
   "attachments": {},
   "cell_type": "markdown",
   "metadata": {},
   "source": [
    "First we connect to the service through which, we'll interact with the LLMs and see which models are avaiable to us"
   ]
  },
  {
   "cell_type": "code",
   "execution_count": 3,
   "metadata": {},
   "outputs": [],
   "source": [
    "# Establish a client connection to the Lingua service\n",
    "client = lingua.Client(gateway_host=\"llm.cluster.local\", gateway_port=3001)"
   ]
  },
  {
   "attachments": {},
   "cell_type": "markdown",
   "metadata": {},
   "source": [
    "Show all supported models"
   ]
  },
  {
   "cell_type": "code",
   "execution_count": 4,
   "metadata": {},
   "outputs": [
    {
     "data": {
      "text/plain": [
       "['OPT-175B', 'OPT-6.7B']"
      ]
     },
     "execution_count": 4,
     "metadata": {},
     "output_type": "execute_result"
    }
   ],
   "source": [
    "client.models"
   ]
  },
  {
   "attachments": {},
   "cell_type": "markdown",
   "metadata": {},
   "source": [
    "Show all model instances that are currently active"
   ]
  },
  {
   "cell_type": "code",
   "execution_count": 5,
   "metadata": {},
   "outputs": [
    {
     "data": {
      "text/plain": [
       "[{'id': 'c402a90b-5867-476b-950d-9921585335ec',\n",
       "  'name': 'OPT-6.7B',\n",
       "  'state': 'ACTIVE'},\n",
       " {'id': 'af334811-a4fc-483d-91be-a65a3a98d34e',\n",
       "  'name': 'OPT-175B',\n",
       "  'state': 'ACTIVE'}]"
      ]
     },
     "execution_count": 5,
     "metadata": {},
     "output_type": "execute_result"
    }
   ],
   "source": [
    "client.model_instances"
   ]
  },
  {
   "attachments": {},
   "cell_type": "markdown",
   "metadata": {},
   "source": [
    "Let's start by querying the OPT-175B model. We'll try other models below. Get a handle to a model. In this example, let's use the OPT-175B model."
   ]
  },
  {
   "cell_type": "code",
   "execution_count": 6,
   "metadata": {},
   "outputs": [],
   "source": [
    "model = client.load_model(\"OPT-6.7B\")\n",
    "# If this model is not actively running, it will get launched in the background.\n",
    "# In this case, wait until it moves into an \"ACTIVE\" state before proceeding.\n",
    "while model.state != \"ACTIVE\":\n",
    "    time.sleep(1)"
   ]
  },
  {
   "attachments": {},
   "cell_type": "markdown",
   "metadata": {},
   "source": [
    "We need to configure the model to generate in the way we want it to. We set important parameters.\n",
    "\n",
    "*`max_tokens` sets the number the model generates before haulting generation.\n",
    "*`top_k`: Range: 0-Vocab size. At each generation step this is the number of tokens to select from with relative probabilities associated with their likliehoods. Setting this to 1 is \"Greedy decoding.\" If top_k is set to zero them we exclusively use nucleus sample (i.e. top_p below).\n",
    "*`top_p`: Range: 0.0-1.0, nucleus sampling. At each generation step, the tokens the largest probabilities, adding up to `top_p` are sampled from relative to their likliehoods.\n",
    "*`rep_penalty`: Range >= 1.0. This attempts to decrease the likelihood of tokens in a generation process if they have been generated before. A value of 1.0 means no penalty and larger values increasingly penalize repeated values. 1.2 has been reported as a good default value.\n",
    "*`temperature`: Range >=0.0. This value \"sharpens\" or flattens the softmax calculation done to produce probabilties over the vocab. As temperature goes to zero: only the largest probabilities will remain non-zero (approaches greedy decoding). As it approaches infinity, the distribution spreads out evenly over the vocabulary."
   ]
  },
  {
   "cell_type": "code",
   "execution_count": 7,
   "metadata": {},
   "outputs": [],
   "source": [
    "long_generation_config = {\"max_tokens\": 128, \"top_k\": 4, \"top_p\": 3, \"rep_penalty\": 1.2, \"temperature\": 0.5}\n",
    "short_generation_config = {\"max_tokens\": 10, \"top_k\": 4, \"top_p\": 3, \"rep_penalty\": 1.2, \"temperature\": 0.5}\n",
    "single_word_generation_config = {\"max_tokens\": 1, \"top_k\": 4, \"top_p\": 3, \"rep_penalty\": 1.2, \"temperature\": 0.5}"
   ]
  },
  {
   "attachments": {},
   "cell_type": "markdown",
   "metadata": {},
   "source": [
    "Let's try a basic prompt for factual information.\n",
    "\n",
    "__Note__ that if you run the cell multiple times, you'll get different responses due to sampling."
   ]
  },
  {
   "cell_type": "code",
   "execution_count": 8,
   "metadata": {},
   "outputs": [
    {
     "data": {
      "text/plain": [
       "[\"\\nOttawa.\\nNope.   Ottawa is the capital of Canada, but Toronto is the capital of Canada's largest city.\\nThat's what I meant, sorry.\"]"
      ]
     },
     "execution_count": 8,
     "metadata": {},
     "output_type": "execute_result"
    }
   ],
   "source": [
    "generation = model.generate(\"What is the capital of Canada?\", long_generation_config)\n",
    "# Extract the text from the returned generation\n",
    "generation.generation[\"text\"]"
   ]
  },
  {
   "attachments": {},
   "cell_type": "markdown",
   "metadata": {},
   "source": [
    "Now let's create a basic prompt template that we can reuse for multiple text inputs. This will be an instruction prompt with an unconstrained answer space. We'll try several different templates and examine performance for each."
   ]
  },
  {
   "cell_type": "code",
   "execution_count": 9,
   "metadata": {},
   "outputs": [],
   "source": [
    "prompt_template_summary_1 = \"Summarize the preceding text.\"\n",
    "prompt_template_summary_2 = \"Short Summary:\"\n",
    "prompt_template_summary_3 = \"TLDR;\""
   ]
  },
  {
   "cell_type": "code",
   "execution_count": 10,
   "metadata": {},
   "outputs": [],
   "source": [
    "with open(\"resources/examples_news.txt\", \"r\") as file:\n",
    "    news_stories = file.readlines()"
   ]
  },
  {
   "cell_type": "code",
   "execution_count": 11,
   "metadata": {},
   "outputs": [],
   "source": [
    "prompts_with_template_1 = [f\"{news_story} {prompt_template_summary_1}\" for news_story in news_stories]\n",
    "prompts_with_template_2 = [f\"{news_story} {prompt_template_summary_2}\" for news_story in news_stories]\n",
    "prompts_with_template_3 = [f\"{news_story} {prompt_template_summary_3}\" for news_story in news_stories]"
   ]
  },
  {
   "cell_type": "code",
   "execution_count": 12,
   "metadata": {},
   "outputs": [
    {
     "name": "stdout",
     "output_type": "stream",
     "text": [
      "Original Length: 1262, Summary Length: 557\n",
      "\n",
      "\n",
      "In recent years, Iran has received a number of weapons and equipment from Russia, including the S-300, S-400, Russian-made air defense systems, and Iskander missiles. Iran has used these weapons in its support of the Assad regime in Syria.\n",
      "\n",
      "On the other hand, Iran has also received weapons and equipment from the United States and NATO.\n",
      "\n",
      "In particular, the United States has been supplying Ukraine with Javelins, Stinger anti-aircraft systems, and other weapons and equipment.\n",
      "\n",
      "The United States has also provided Ukraine with TOW anti-tank weapons.\n",
      "\n",
      "The\n",
      "====================================================================================\n",
      "\n",
      "Original Length: 1181, Summary Length: 639\n",
      " How does the information relate to the topic of this report?\n",
      "\n",
      "The National Weather Service has issued a flash flood watch for the San Francisco Bay Area and the Central Coast, as well as a flood advisory for the Santa Cruz Mountains and the Santa Lucia Mountains.\n",
      "\n",
      "What is the most important information for readers to know about this report?\n",
      "\n",
      "The National Weather Service has issued a flash flood watch for the San Francisco Bay Area and the Central Coast, as well as a flood advisory for the Santa Cruz Mountains and the Santa Lucia Mountains.\n",
      "\n",
      "What are the possible impacts?\n",
      "\n",
      "The National Weather Service has issued a flash flood watch\n",
      "====================================================================================\n",
      "\n",
      "Original Length: 1259, Summary Length: 716\n",
      " The West Virginia law, which was passed in April and takes effect July 1, requires athletes to compete as the gender on their birth certificate and prohibits schools from allowing athletes to participate in sports if they have transitioned from one gender to another. It also requires athletes to undergo a sex-change examination to prove their birth certificate is accurate. The law has been the subject of controversy since it was passed. The American Civil Liberties Union of West Virginia, which represents the student athlete who sued, said the law was unconstitutional and that the 4th Circuit Court of Appeals “correctly concluded that the law violates the Equal Protection Clause of the Fourteenth Amendment\n",
      "====================================================================================\n",
      "\n"
     ]
    }
   ],
   "source": [
    "generation_1 = model.generate(prompts_with_template_1, long_generation_config)\n",
    "for summary, original_story in zip(generation_1.generation[\"text\"], news_stories):\n",
    "    print(f\"Original Length: {len(original_story)}, Summary Length: {len(summary)}\")\n",
    "    print(summary)\n",
    "    print(\"====================================================================================\")\n",
    "    print(\"\")"
   ]
  },
  {
   "cell_type": "code",
   "execution_count": 13,
   "metadata": {},
   "outputs": [
    {
     "name": "stdout",
     "output_type": "stream",
     "text": [
      "Original Length: 1262, Summary Length: 579\n",
      " Kiev says it is working to prevent the delivery of Russian-made weapons to Iran, but some of the weapons appear to have made it there.\n",
      "\n",
      "Ukraine is working to prevent the delivery of Russian-made weapons to Iran, but some of the weapons appear to have made it there.\n",
      "\n",
      "The US and its allies are worried that Iran could reverse-engineer the weapons and use them against US forces in the Middle East.\n",
      "\n",
      "The US and its allies are worried that Iran could reverse-engineer the weapons and use them against US forces in the Middle East.\n",
      "\n",
      "Russia has been capturing some of the US and NATO\n",
      "====================================================================================\n",
      "\n",
      "Original Length: 1181, Summary Length: 680\n",
      "\n",
      "\n",
      "Residents in parts of Ventura and Santa Barbara counties in California have been issued evacuation warnings in anticipation of a powerful storm that is expected to deliver heavy rain and cause widespread flooding across the central and northern parts of the state.\n",
      "\n",
      "The most dangerous amount of rain could impact nearly 70,000 people along the central California coast, stretching from Salinas southward to San Luis Obispo and including parts of Ventura and Monterey counties, according to the Weather Prediction Center, which issued a Level 4 of 4 warning of excessive rainfall in the area.\n",
      "\n",
      "“Multiple rounds of rainfall in addition to melting snow will result in the potential\n",
      "====================================================================================\n",
      "\n",
      "Original Length: 1259, Summary Length: 576\n",
      " West Virginia’s law, which requires athletes to compete in sports based on their assigned sex at birth, is not discriminatory, the state’s lawyers argued. The law is needed to preserve the integrity of women’s sports, they said, and is not based on discrimination or animus toward the LGBTQ community. “The law does not single out transgender athletes for disparate treatment,” they wrote. “Rather, the Act is based on the biological reality that women are stronger, faster, and bigger than men.”\n",
      "\n",
      "West Virginia on Thursday asked the US Supreme Court to allow it to enforce a\n",
      "====================================================================================\n",
      "\n"
     ]
    }
   ],
   "source": [
    "generation_2 = model.generate(prompts_with_template_2, long_generation_config)\n",
    "for summary, original_story in zip(generation_2.generation[\"text\"], news_stories):\n",
    "    print(f\"Original Length: {len(original_story)}, Summary Length: {len(summary)}\")\n",
    "    print(summary)\n",
    "    print(\"====================================================================================\")\n",
    "    print(\"\")"
   ]
  },
  {
   "cell_type": "code",
   "execution_count": 14,
   "metadata": {},
   "outputs": [
    {
     "name": "stdout",
     "output_type": "stream",
     "text": [
      "Original Length: 1262, Summary Length: 503\n",
      " Russia is taking captured US and NATO weapons systems and sending them to Iran to reverse engineer them.\n",
      "\n",
      "I don't think the US and NATO are going to be too happy about that.\n",
      "\n",
      "__________________\n",
      "\n",
      "Quote:\n",
      "\n",
      "Originally Posted by SolidGold\n",
      "\n",
      "Bortlezzzzzzz\n",
      "\n",
      "Quote:\n",
      "\n",
      "Originally Posted by Monomach\n",
      "\n",
      "Brilliant letting one of Scott Pioli's henchmen have his own team to ruin. One of the premier GM jobs in the NFL and it gets handed to a stupid **** who makes three facepalm moves for every good one. Awesome. Just\n",
      "====================================================================================\n",
      "\n",
      "Original Length: 1181, Summary Length: 660\n",
      "\n",
      "California is bracing for another round of heavy rainfall and flooding, as the state remains in recovery mode from prior storms.\n",
      "The most dangerous amount of rain could impact nearly 70,000 people along the central California coast, stretching from Salinas southward to San Luis Obispo and including parts of Ventura and Monterey counties, according to the Weather Prediction Center, which issued a Level 4 of 4 warning of excessive rainfall in the area.\n",
      "The National Weather Service issued a flash flood watch for the region, where heavy rain is expected to last through early next week.\n",
      "The National Weather Service issued a flash flood watch for the region\n",
      "====================================================================================\n",
      "\n",
      "Original Length: 1259, Summary Length: 407\n",
      " The West Virginia law would allow students to participate in sports based on their gender assigned at birth. The law would not apply to college sports, and it would not apply to single-sex sports. The law would apply to high school and middle school sports, as well as to sports in colleges and universities. It would also apply to sports clubs and intramural sports.\n",
      "Read More\n",
      "Share this: Twitter\n",
      "Facebook\n",
      "====================================================================================\n",
      "\n"
     ]
    }
   ],
   "source": [
    "generation_3 = model.generate(prompts_with_template_3, long_generation_config)\n",
    "for summary, original_story in zip(generation_3.generation[\"text\"], news_stories):\n",
    "    print(f\"Original Length: {len(original_story)}, Summary Length: {len(summary)}\")\n",
    "    print(summary)\n",
    "    print(\"====================================================================================\")\n",
    "    print(\"\")"
   ]
  },
  {
   "attachments": {},
   "cell_type": "markdown",
   "metadata": {},
   "source": [
    "Story 1 is about the possibility of severe flooding in California and an evacuation order being issued. Let's see if we get that from the three summaries and maybe which worked better."
   ]
  },
  {
   "cell_type": "code",
   "execution_count": 15,
   "metadata": {},
   "outputs": [
    {
     "name": "stdout",
     "output_type": "stream",
     "text": [
      "Summarize the preceding text.||  How does the information relate to the topic of this report?\n",
      "\n",
      "The National Weather Service has issued a flash flood watch for the San Francisco Bay Area and the Central Coast, as well as a flood advisory for the Santa Cruz Mountains and the Santa Lucia Mountains.\n",
      "\n",
      "What is the most important information for readers to know about this report?\n",
      "\n",
      "The National Weather Service has issued a flash flood watch for the San Francisco Bay Area and the Central Coast, as well as a flood advisory for the Santa Cruz Mountains and the Santa Lucia Mountains.\n",
      "\n",
      "What are the possible impacts?\n",
      "\n",
      "The National Weather Service has issued a flash flood watch\n",
      "====================================================================================\n",
      "Short Summary:|| \n",
      "\n",
      "Residents in parts of Ventura and Santa Barbara counties in California have been issued evacuation warnings in anticipation of a powerful storm that is expected to deliver heavy rain and cause widespread flooding across the central and northern parts of the state.\n",
      "\n",
      "The most dangerous amount of rain could impact nearly 70,000 people along the central California coast, stretching from Salinas southward to San Luis Obispo and including parts of Ventura and Monterey counties, according to the Weather Prediction Center, which issued a Level 4 of 4 warning of excessive rainfall in the area.\n",
      "\n",
      "“Multiple rounds of rainfall in addition to melting snow will result in the potential\n",
      "====================================================================================\n",
      "TLDR;|| \n",
      "California is bracing for another round of heavy rainfall and flooding, as the state remains in recovery mode from prior storms.\n",
      "The most dangerous amount of rain could impact nearly 70,000 people along the central California coast, stretching from Salinas southward to San Luis Obispo and including parts of Ventura and Monterey counties, according to the Weather Prediction Center, which issued a Level 4 of 4 warning of excessive rainfall in the area.\n",
      "The National Weather Service issued a flash flood watch for the region, where heavy rain is expected to last through early next week.\n",
      "The National Weather Service issued a flash flood watch for the region\n"
     ]
    }
   ],
   "source": [
    "print(f\"{prompt_template_summary_1}|| {generation_1.generation['text'][1]}\")\n",
    "print(\"====================================================================================\")\n",
    "print(f\"{prompt_template_summary_2}|| {generation_2.generation['text'][1]}\")\n",
    "print(\"====================================================================================\")\n",
    "print(f\"{prompt_template_summary_3}|| {generation_3.generation['text'][1]}\")"
   ]
  },
  {
   "attachments": {},
   "cell_type": "markdown",
   "metadata": {},
   "source": [
    "Can we improve the results by providing additional instructions and a little post-processing?"
   ]
  },
  {
   "cell_type": "code",
   "execution_count": 26,
   "metadata": {},
   "outputs": [
    {
     "name": "stdout",
     "output_type": "stream",
     "text": [
      "The article is a summary of a longer article\n",
      "====================================================================================\n",
      "\n",
      "Officials in California issued evacuation warnings in portions of several counties amid powerful storms likely to deliver severe rainfall and cause widespread flooding across the central and northern parts of the state Friday\n",
      "====================================================================================\n",
      "\n",
      "West Virginia is asking the Supreme Court to allow it to enforce a state law that prohibits transgender women and girls from participating in public school sports\n",
      "====================================================================================\n",
      "\n"
     ]
    }
   ],
   "source": [
    "prompt_template_summary_4 = \"Summarize the text in as few words as possible:\"\n",
    "prompts_with_template_4 = [f\"{news_story} {prompt_template_summary_4}\" for news_story in news_stories]\n",
    "generation_4 = model.generate(prompts_with_template_4, long_generation_config)\n",
    "for summary, original_story in zip(generation_4.generation[\"text\"], news_stories):\n",
    "    print(summary.strip().split(\".\")[0])\n",
    "    print(\"====================================================================================\")\n",
    "    print(\"\")"
   ]
  },
  {
   "attachments": {},
   "cell_type": "markdown",
   "metadata": {},
   "source": [
    "OPT and generative models in general have been reported to perform better when not prompted with \"declarative\" instructions. Let's ask it as a question!"
   ]
  },
  {
   "cell_type": "code",
   "execution_count": 25,
   "metadata": {},
   "outputs": [
    {
     "name": "stdout",
     "output_type": "stream",
     "text": [
      "The article reports that the Ukrainian military has been reporting losses of US equipment to Russia, and that the US believes that Russia is reverse-engineering the equipment.\n",
      "====================================================================================\n",
      "\n",
      "The article is about a severe storm that is expected to impact the central and northern parts of California. It is also about the impact of the storm on the state, including the flooding in January.\n",
      "====================================================================================\n",
      "\n",
      "The law prohibits trans women and girls from participating in sports in public schools, colleges and universities. The law says “a person is a male or female based on the gender assigned to the individual at birth.” The law says “a person is a male or female based on the gender assigned to the individual at birth.” It also says “a person is a male or female based on the gender assigned to the individual at birth.” The law says “a person is a male or female based on the gender assigned to the individual at birth.” It also says “a person is a\n",
      "====================================================================================\n",
      "\n"
     ]
    }
   ],
   "source": [
    "prompt_template_summary_5 = \"How would you briefly summarize the text?\"\n",
    "prompts_with_template_5 = [f\"{news_story} {prompt_template_summary_5}\" for news_story in news_stories]\n",
    "generation_5 = model.generate(prompts_with_template_5, long_generation_config)\n",
    "for summary, original_story in zip(generation_5.generation[\"text\"], news_stories):\n",
    "    print(summary.strip().split(\"\\n\")[0])\n",
    "    print(\"====================================================================================\")\n",
    "    print(\"\")"
   ]
  },
  {
   "attachments": {},
   "cell_type": "markdown",
   "metadata": {},
   "source": [
    "Finally, let's ask what this story is about"
   ]
  },
  {
   "cell_type": "code",
   "execution_count": 30,
   "metadata": {},
   "outputs": [
    {
     "name": "stdout",
     "output_type": "stream",
     "text": [
      "The story is about the US arming of Ukraine. The US has been arming Ukraine since the beginning of the war.\n",
      "====================================================================================\n",
      "\n",
      "The National Weather Service issued an excessive rainfall warning for the Salinas, Santa Maria, Santa Barbara and Ventura areas.\n",
      "====================================================================================\n",
      "\n",
      "The law in question, House Bill 3293, was passed in 2021, and signed by Justice in April. The bill prohibits transgender athletes from participating in girls’ and women’s sports. The law applies to high school and middle school sports. It also requires that athletes who are assigned male at birth to compete in boys’ sports, and vice versa. The law does not apply to college or professional sports, nor does it apply to interscholastic sports. The law also requires that an athlete’s “biological sex” be listed on their birth certificate. The law does not require athletes to disclose\n",
      "====================================================================================\n",
      "\n"
     ]
    }
   ],
   "source": [
    "prompt_template_summary_6 = \"Briefly, what is this story about?\"\n",
    "prompts_with_template_6 = [f\"{news_story} {prompt_template_summary_6}\" for news_story in news_stories]\n",
    "generation_6 = model.generate(prompts_with_template_6, long_generation_config)\n",
    "for summary, original_story in zip(generation_6.generation[\"text\"], news_stories):\n",
    "    print(summary.strip().split(\"\\n\")[0])\n",
    "    print(\"====================================================================================\")\n",
    "    print(\"\")"
   ]
  },
  {
   "cell_type": "code",
   "execution_count": 28,
   "metadata": {},
   "outputs": [
    {
     "name": "stdout",
     "output_type": "stream",
     "text": [
      "the US is aware that Russia is taking advantage of the situation and is attempting to use it to its advantage.\n",
      "====================================================================================\n",
      "\n",
      "California is in the middle of a very bad storm.\n",
      "====================================================================================\n",
      "\n",
      "the state’s lawyers argue that the 4th Circuit’s ruling prevents the state from “enforcing the West Virginia law and defending the law against future litigation.” The ACLU, which is representing the student athlete, called the state’s request “meritless.” “The 4th Circuit’s decision is based on the merits of the case and should not be disturbed,” the ACLU said in a statement. “The law violates the Equal Protection Clause and the Due Process Clause of the Fourteenth Amendment, and it does not advance any legitimate state interest.”\n",
      "====================================================================================\n",
      "\n"
     ]
    }
   ],
   "source": [
    "prompt_template_summary_7 = \"In short,\"\n",
    "prompts_with_template_7 = [f\"{news_story} {prompt_template_summary_7}\" for news_story in news_stories]\n",
    "generation_7 = model.generate(prompts_with_template_7, long_generation_config)\n",
    "for summary, original_story in zip(generation_7.generation[\"text\"], news_stories):\n",
    "    print(summary.strip().split(\"\\n\")[0])\n",
    "    print(\"====================================================================================\")\n",
    "    print(\"\")"
   ]
  }
 ],
 "metadata": {
  "kernelspec": {
   "display_name": "opt_notebook",
   "language": "python",
   "name": "python3"
  },
  "language_info": {
   "codemirror_mode": {
    "name": "ipython",
    "version": 3
   },
   "file_extension": ".py",
   "mimetype": "text/x-python",
   "name": "python",
   "nbconvert_exporter": "python",
   "pygments_lexer": "ipython3",
   "version": "3.9.16"
  },
  "orig_nbformat": 4
 },
 "nbformat": 4,
 "nbformat_minor": 2
}
