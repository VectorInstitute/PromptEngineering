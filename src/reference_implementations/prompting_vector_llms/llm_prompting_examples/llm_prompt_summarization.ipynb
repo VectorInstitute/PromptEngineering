{
 "cells": [
  {
   "cell_type": "code",
   "execution_count": 1,
   "metadata": {},
   "outputs": [
    {
     "name": "stderr",
     "output_type": "stream",
     "text": [
      "/usr/local/anaconda3/envs/opt_notebook/lib/python3.9/site-packages/tqdm/auto.py:21: TqdmWarning: IProgress not found. Please update jupyter and ipywidgets. See https://ipywidgets.readthedocs.io/en/stable/user_install.html\n",
      "  from .autonotebook import tqdm as notebook_tqdm\n"
     ]
    }
   ],
   "source": [
    "import re\n",
    "import time\n",
    "\n",
    "import lingua"
   ]
  },
  {
   "attachments": {},
   "cell_type": "markdown",
   "metadata": {},
   "source": [
    "# Getting Started\n",
    "\n",
    "There is a bit of documentation on how to interact with the large models [here](https://lingua-sdk.readthedocs.io/en/latest/getting_started.html). The relevant github links to the SDK are [here](https://github.com/VectorInstitute/lingua-sdk) and underlying code [here](https://github.com/VectorInstitute/lingua)."
   ]
  },
  {
   "attachments": {},
   "cell_type": "markdown",
   "metadata": {},
   "source": [
    "First we connect to the service through which, we'll interact with the LLMs and see which models are avaiable to us"
   ]
  },
  {
   "cell_type": "code",
   "execution_count": 2,
   "metadata": {},
   "outputs": [],
   "source": [
    "# Establish a client connection to the Lingua service\n",
    "client = lingua.Client(gateway_host=\"llm.cluster.local\", gateway_port=3001)"
   ]
  },
  {
   "attachments": {},
   "cell_type": "markdown",
   "metadata": {},
   "source": [
    "Show all supported models"
   ]
  },
  {
   "cell_type": "code",
   "execution_count": 3,
   "metadata": {},
   "outputs": [
    {
     "data": {
      "text/plain": [
       "['OPT-175B', 'OPT-6.7B']"
      ]
     },
     "execution_count": 3,
     "metadata": {},
     "output_type": "execute_result"
    }
   ],
   "source": [
    "client.models"
   ]
  },
  {
   "attachments": {},
   "cell_type": "markdown",
   "metadata": {},
   "source": [
    "Show all model instances that are currently active"
   ]
  },
  {
   "cell_type": "code",
   "execution_count": 4,
   "metadata": {},
   "outputs": [
    {
     "data": {
      "text/plain": [
       "[{'id': 'c402a90b-5867-476b-950d-9921585335ec',\n",
       "  'name': 'OPT-6.7B',\n",
       "  'state': 'ACTIVE'},\n",
       " {'id': 'af334811-a4fc-483d-91be-a65a3a98d34e',\n",
       "  'name': 'OPT-175B',\n",
       "  'state': 'ACTIVE'}]"
      ]
     },
     "execution_count": 4,
     "metadata": {},
     "output_type": "execute_result"
    }
   ],
   "source": [
    "client.model_instances"
   ]
  },
  {
   "attachments": {},
   "cell_type": "markdown",
   "metadata": {},
   "source": [
    "Let's start by querying the OPT-175B model. We'll try other models below. Get a handle to a model. In this example, let's use the OPT-175B model."
   ]
  },
  {
   "cell_type": "code",
   "execution_count": 5,
   "metadata": {},
   "outputs": [],
   "source": [
    "model = client.load_model(\"OPT-6.7B\")\n",
    "# If this model is not actively running, it will get launched in the background.\n",
    "# In this case, wait until it moves into an \"ACTIVE\" state before proceeding.\n",
    "while model.state != \"ACTIVE\":\n",
    "    time.sleep(1)"
   ]
  },
  {
   "attachments": {},
   "cell_type": "markdown",
   "metadata": {},
   "source": [
    "We need to configure the model to generate in the way we want it to. We set important parameters.\n",
    "\n",
    "*`max_tokens` sets the number the model generates before haulting generation.\n",
    "*`top_k`: Range: 0-Vocab size. At each generation step this is the number of tokens to select from with relative probabilities associated with their likliehoods. Setting this to 1 is \"Greedy decoding.\" If top_k is set to zero them we exclusively use nucleus sample (i.e. top_p below).\n",
    "*`top_p`: Range: 0.0-1.0, nucleus sampling. At each generation step, the tokens the largest probabilities, adding up to `top_p` are sampled from relative to their likliehoods.\n",
    "*`rep_penalty`: Range >= 1.0. This attempts to decrease the likelihood of tokens in a generation process if they have been generated before. A value of 1.0 means no penalty and larger values increasingly penalize repeated values. 1.2 has been reported as a good default value.\n",
    "*`temperature`: Range >=0.0. This value \"sharpens\" or flattens the softmax calculation done to produce probabilties over the vocab. As temperature goes to zero: only the largest probabilities will remain non-zero (approaches greedy decoding). As it approaches infinity, the distribution spreads out evenly over the vocabulary."
   ]
  },
  {
   "cell_type": "code",
   "execution_count": 6,
   "metadata": {},
   "outputs": [],
   "source": [
    "long_generation_config = {\"max_tokens\": 128, \"top_k\": 4, \"top_p\": 3, \"rep_penalty\": 1.2, \"temperature\": 0.5}\n",
    "short_generation_config = {\"max_tokens\": 10, \"top_k\": 4, \"top_p\": 3, \"rep_penalty\": 1.2, \"temperature\": 0.5}\n",
    "single_word_generation_config = {\"max_tokens\": 1, \"top_k\": 4, \"top_p\": 3, \"rep_penalty\": 1.2, \"temperature\": 0.5}"
   ]
  },
  {
   "attachments": {},
   "cell_type": "markdown",
   "metadata": {},
   "source": [
    "Let's try a basic prompt for factual information.\n",
    "\n",
    "__Note__ that if you run the cell multiple times, you'll get different responses due to sampling."
   ]
  },
  {
   "cell_type": "code",
   "execution_count": 7,
   "metadata": {},
   "outputs": [
    {
     "data": {
      "text/plain": [
       "['\\nOttawa.   Source: Canadian\\nWhat is the capital of Australia?\\nSydney.  Source: Australian']"
      ]
     },
     "execution_count": 7,
     "metadata": {},
     "output_type": "execute_result"
    }
   ],
   "source": [
    "generation = model.generate(\"What is the capital of Canada?\", long_generation_config)\n",
    "# Extract the text from the returned generation\n",
    "generation.generation[\"text\"]"
   ]
  },
  {
   "cell_type": "code",
   "execution_count": 8,
   "metadata": {},
   "outputs": [],
   "source": [
    "def post_process_generations(generation_text: str) -> str:\n",
    "    split_text = re.findall(r\".*?[.!\\?]\", generation_text)[0:3]\n",
    "    split_text = [text.strip() for text in split_text]\n",
    "    return \" \".join(split_text)"
   ]
  },
  {
   "attachments": {},
   "cell_type": "markdown",
   "metadata": {},
   "source": [
    "Now let's create a basic prompt template that we can reuse for multiple text inputs. This will be an instruction prompt with an unconstrained answer space. We'll try several different templates and examine performance for each."
   ]
  },
  {
   "cell_type": "code",
   "execution_count": 9,
   "metadata": {},
   "outputs": [],
   "source": [
    "prompt_template_summary_1 = \"Summarize the preceding text.\"\n",
    "prompt_template_summary_2 = \"Short Summary:\"\n",
    "prompt_template_summary_3 = \"TLDR;\""
   ]
  },
  {
   "cell_type": "code",
   "execution_count": 10,
   "metadata": {},
   "outputs": [],
   "source": [
    "with open(\"resources/news_summary_datasets/examples_news.txt\", \"r\") as file:\n",
    "    news_stories = file.readlines()"
   ]
  },
  {
   "cell_type": "code",
   "execution_count": 11,
   "metadata": {},
   "outputs": [],
   "source": [
    "prompts_with_template_1 = [f\"{news_story} {prompt_template_summary_1}\" for news_story in news_stories]\n",
    "prompts_with_template_2 = [f\"{news_story} {prompt_template_summary_2}\" for news_story in news_stories]\n",
    "prompts_with_template_3 = [f\"{news_story} {prompt_template_summary_3}\" for news_story in news_stories]"
   ]
  },
  {
   "cell_type": "code",
   "execution_count": 12,
   "metadata": {},
   "outputs": [
    {
     "name": "stdout",
     "output_type": "stream",
     "text": [
      "Prompt: Summarize the preceding text.\n",
      "Original Length: 1262, Summary Length: 581\n",
      "Russia has been capturing some of the US and NATO-provided weapons and equipment left on the battlefield in Ukraine and sending them to Iran, where the US believes Tehran will try to reverse-engineer the systems, four sources familiar with the matter told CNN. Over the last year, US, NATO and other Western officials have seen several instances of Russian forces seizing smaller, shoulder-fired weapons equipment including Javelin anti-tank and Stinger anti-aircraft systems that Ukrainian forces have at times been forced to leave behind on the battlefield, the sources told CNN.\n",
      "====================================================================================\n",
      "\n",
      "Original Length: 1181, Summary Length: 358\n",
      "The National Weather Service (NWS) has issued a flash flood watch for the Bay Area and the Central Coast, with a chance of heavy rainfall and thunderstorms. The watch is in effect from Friday morning through Saturday evening. The watch includes the entire Bay Area, from Monterey southward, as well as the Central Coast from San Luis Obispo to Santa Barbara.\n",
      "====================================================================================\n",
      "\n",
      "Original Length: 1260, Summary Length: 247\n",
      "The brief asks the Supreme Court to allow the law to go into effect immediately, and if it does not, to vacate the 4th Circuit’s injunction and let the law take effect. What is the background here? West Virginia’s law, which was signed by GOP Gov.\n",
      "====================================================================================\n",
      "\n"
     ]
    }
   ],
   "source": [
    "generation_1 = model.generate(prompts_with_template_1, long_generation_config)\n",
    "print(f\"Prompt: {prompt_template_summary_1}\")\n",
    "for summary, original_story in zip(generation_1.generation[\"text\"], news_stories):\n",
    "    # Let's just take the first 3 sentences, split by periods\n",
    "    summary = post_process_generations(summary)\n",
    "    print(f\"Original Length: {len(original_story)}, Summary Length: {len(summary)}\")\n",
    "    print(summary)\n",
    "    print(\"====================================================================================\")\n",
    "    print(\"\")"
   ]
  },
  {
   "cell_type": "code",
   "execution_count": 13,
   "metadata": {},
   "outputs": [
    {
     "name": "stdout",
     "output_type": "stream",
     "text": [
      "Prompt: Short Summary:\n",
      "Original Length: 1262, Summary Length: 581\n",
      "Russia has been capturing some of the US and NATO-provided weapons and equipment left on the battlefield in Ukraine and sending them to Iran, where the US believes Tehran will try to reverse-engineer the systems, four sources familiar with the matter told CNN. Over the last year, US, NATO and other Western officials have seen several instances of Russian forces seizing smaller, shoulder-fired weapons equipment including Javelin anti-tank and Stinger anti-aircraft systems that Ukrainian forces have at times been forced to leave behind on the battlefield, the sources told CNN.\n",
      "====================================================================================\n",
      "\n",
      "Prompt: Short Summary:\n",
      "Original Length: 1181, Summary Length: 552\n",
      "Officials in California issued evacuation warnings in portions of several counties amid powerful storms likely to deliver severe rainfall and cause widespread flooding across the central and northern parts of the state Friday. The most dangerous amount of rain could impact nearly 70,000 people along the central California coast, stretching from Salinas southward to San Luis Obispo and including parts of Ventura and Monterey counties, according to the Weather Prediction Center, which issued a Level 4 of 4 warning of excessive rainfall in the area.\n",
      "====================================================================================\n",
      "\n",
      "Prompt: Short Summary:\n",
      "Original Length: 1260, Summary Length: 463\n",
      "The West Virginia Attorney General’s Office filed an emergency request with the US Supreme Court on Thursday to allow the state to enforce a law that prohibits transgender women and girls from participating in public school sports. The West Virginia Attorney General’s Office filed an emergency request with the US Supreme Court on Thursday to allow the state to enforce a law that prohibits transgender women and girls from participating in public school sports.\n",
      "====================================================================================\n",
      "\n"
     ]
    }
   ],
   "source": [
    "generation_2 = model.generate(prompts_with_template_2, long_generation_config)\n",
    "for summary, original_story in zip(generation_2.generation[\"text\"], news_stories):\n",
    "    print(f\"Prompt: {prompt_template_summary_2}\")\n",
    "    # Let's just take the first 3 sentences, split by periods\n",
    "    summary = post_process_generations(summary)\n",
    "    print(f\"Original Length: {len(original_story)}, Summary Length: {len(summary)}\")\n",
    "    print(summary)\n",
    "    print(\"====================================================================================\")\n",
    "    print(\"\")"
   ]
  },
  {
   "cell_type": "code",
   "execution_count": 14,
   "metadata": {},
   "outputs": [
    {
     "name": "stdout",
     "output_type": "stream",
     "text": [
      "Prompt: TLDR;\n",
      "Original Length: 1262, Summary Length: 249\n",
      "Russia is stealing US and NATO-supplied weapons and equipment from Ukraine and sending them to Iran. The US has been fighting a proxy war against Iran since the 1979 revolution in Iran. The US seeks to destabilize Iran's government and overthrow it.\n",
      "====================================================================================\n",
      "\n",
      "Prompt: TLDR;\n",
      "Original Length: 1181, Summary Length: 357\n",
      "California is getting a 2nd storm. California, which is still recovering from the devastating January storms, is bracing for another round of severe weather and flooding. The National Weather Service issued a flash flood watch for the entire state and warned that “a significant rainfall event is expected to begin tonight and continue into early next week.\n",
      "====================================================================================\n",
      "\n",
      "Prompt: TLDR;\n",
      "Original Length: 1260, Summary Length: 81\n",
      "WV AG Morrisey asks SCOTUS to allow state to enforce trans sports ban. More here.\n",
      "====================================================================================\n",
      "\n"
     ]
    }
   ],
   "source": [
    "generation_3 = model.generate(prompts_with_template_3, long_generation_config)\n",
    "for summary, original_story in zip(generation_3.generation[\"text\"], news_stories):\n",
    "    print(f\"Prompt: {prompt_template_summary_3}\")\n",
    "    # Let's just take the first 3 sentences, split by periods\n",
    "    summary = post_process_generations(summary)\n",
    "    print(f\"Original Length: {len(original_story)}, Summary Length: {len(summary)}\")\n",
    "    print(summary)\n",
    "    print(\"====================================================================================\")\n",
    "    print(\"\")"
   ]
  },
  {
   "attachments": {},
   "cell_type": "markdown",
   "metadata": {},
   "source": [
    "Story 1 is about the possibility of severe flooding in California and an evacuation order being issued. Let's see if we get that from the three summaries and maybe which worked better."
   ]
  },
  {
   "cell_type": "code",
   "execution_count": 15,
   "metadata": {},
   "outputs": [
    {
     "name": "stdout",
     "output_type": "stream",
     "text": [
      "Summarize the preceding text.|| \n",
      "The National Weather Service (NWS) has issued a flash flood watch for the Bay Area and the Central Coast, with a chance of heavy rainfall and thunderstorms. The watch is in effect from Friday morning through Saturday evening.\n",
      "\n",
      "The watch includes the entire Bay Area, from Monterey southward, as well as the Central Coast from San Luis Obispo to Santa Barbara.\n",
      "\n",
      "The NWS says the threat of heavy rainfall and thunderstorms will continue through Saturday evening.\n",
      "\n",
      "The watch also includes the following counties:\n",
      "\n",
      "Alameda, Contra Costa, Marin, Napa, San Mateo, Santa Cruz and\n",
      "====================================================================================\n",
      "Short Summary:|| \n",
      "\n",
      "Officials in California issued evacuation warnings in portions of several counties amid powerful storms likely to deliver severe rainfall and cause widespread flooding across the central and northern parts of the state Friday. The most dangerous amount of rain could impact nearly 70,000 people along the central California coast, stretching from Salinas southward to San Luis Obispo and including parts of Ventura and Monterey counties, according to the Weather Prediction Center, which issued a Level 4 of 4 warning of excessive rainfall in the area. “Multiple rounds of rainfall in addition to melting snow will result in the potential for significant rises along streams and rivers, with widespread flooding impacts possible\n",
      "====================================================================================\n",
      "TLDR;||  California is getting a 2nd storm.\n",
      "\n",
      "California, which is still recovering from the devastating January storms, is bracing for another round of severe weather and flooding.\n",
      "\n",
      "The National Weather Service issued a flash flood watch for the entire state and warned that “a significant rainfall event is expected to begin tonight and continue into early next week.”\n",
      "\n",
      "The flash flood watch means that conditions are favorable for flooding to occur, but it doesn’t necessarily mean that flooding will occur.\n",
      "\n",
      "The heaviest storms are expected to hit the central coast, including the cities of San Luis Obispo, Santa Barbara, and\n"
     ]
    }
   ],
   "source": [
    "print(f\"{prompt_template_summary_1}|| {generation_1.generation['text'][1]}\")\n",
    "print(\"====================================================================================\")\n",
    "print(f\"{prompt_template_summary_2}|| {generation_2.generation['text'][1]}\")\n",
    "print(\"====================================================================================\")\n",
    "print(f\"{prompt_template_summary_3}|| {generation_3.generation['text'][1]}\")"
   ]
  },
  {
   "attachments": {},
   "cell_type": "markdown",
   "metadata": {},
   "source": [
    "Can we improve the results by providing additional instructions?"
   ]
  },
  {
   "cell_type": "code",
   "execution_count": 16,
   "metadata": {},
   "outputs": [
    {
     "name": "stdout",
     "output_type": "stream",
     "text": [
      "Prompt: Summarize the text in as few words as possible:\n",
      "Original Length: 1262, Summary Length: 393\n",
      "US officials believe that Russia is sending captured US and NATO-provided weapons and equipment to Iran, where the US believes Tehran will try to reverse-engineer the systems. The US is worried that the equipment could end up in the hands of terrorists or other bad actors. The US has no evidence that Iran is reverse-engineering the equipment yet, but “that’s what they’re going to try to do.\n",
      "====================================================================================\n",
      "\n",
      "Prompt: Summarize the text in as few words as possible:\n",
      "Original Length: 1181, Summary Length: 552\n",
      "Officials in California issued evacuation warnings in portions of several counties amid powerful storms likely to deliver severe rainfall and cause widespread flooding across the central and northern parts of the state Friday. The most dangerous amount of rain could impact nearly 70,000 people along the central California coast, stretching from Salinas southward to San Luis Obispo and including parts of Ventura and Monterey counties, according to the Weather Prediction Center, which issued a Level 4 of 4 warning of excessive rainfall in the area.\n",
      "====================================================================================\n",
      "\n",
      "Prompt: Summarize the text in as few words as possible:\n",
      "Original Length: 1260, Summary Length: 383\n",
      "The state of West Virginia is asking the US Supreme Court to allow it to enforce a state law that prohibits transgender women and girls from participating in public school sports. What is the background? The state of West Virginia is asking the US Supreme Court to allow it to enforce a state law that prohibits transgender women and girls from participating in public school sports.\n",
      "====================================================================================\n",
      "\n"
     ]
    }
   ],
   "source": [
    "prompt_template_summary_4 = \"Summarize the text in as few words as possible:\"\n",
    "prompts_with_template_4 = [f\"{news_story} {prompt_template_summary_4}\" for news_story in news_stories]\n",
    "generation_4 = model.generate(prompts_with_template_4, long_generation_config)\n",
    "for summary, original_story in zip(generation_4.generation[\"text\"], news_stories):\n",
    "    print(f\"Prompt: {prompt_template_summary_4}\")\n",
    "    # Let's just take the first 3 sentences, split by periods\n",
    "    summary = post_process_generations(summary)\n",
    "    print(f\"Original Length: {len(original_story)}, Summary Length: {len(summary)}\")\n",
    "    print(summary)\n",
    "    print(\"====================================================================================\")\n",
    "    print(\"\")"
   ]
  },
  {
   "attachments": {},
   "cell_type": "markdown",
   "metadata": {},
   "source": [
    "OPT and generative models in general have been reported to perform better when not prompted with \"declarative\" instructions. Let's ask it as a question!"
   ]
  },
  {
   "cell_type": "code",
   "execution_count": 17,
   "metadata": {},
   "outputs": [
    {
     "name": "stdout",
     "output_type": "stream",
     "text": [
      "Prompt: How would you briefly summarize the text?\n",
      "Original Length: 1262, Summary Length: 249\n",
      "The text is about the US-Russian relations in the context of the Cold War. It describes the main problems of the relations between the two countries. The author stresses that the US and Russia have been enemies since the end of the Second World War.\n",
      "====================================================================================\n",
      "\n",
      "Prompt: How would you briefly summarize the text?\n",
      "Original Length: 1181, Summary Length: 571\n",
      "The text is brief. Officials in California issued evacuation warnings in portions of several counties amid powerful storms likely to deliver severe rainfall and cause widespread flooding across the central and northern parts of the state Friday. The most dangerous amount of rain could impact nearly 70,000 people along the central California coast, stretching from Salinas southward to San Luis Obispo and including parts of Ventura and Monterey counties, according to the Weather Prediction Center, which issued a Level 4 of 4 warning of excessive rainfall in the area.\n",
      "====================================================================================\n",
      "\n",
      "Prompt: How would you briefly summarize the text?\n",
      "Original Length: 1260, Summary Length: 228\n",
      "The West Virginia law prohibits trans women and girls from participating in public school sports consistent with their gender identity. The law applies to all sports, including girls’ and women’s sports. What is the legal issue?\n",
      "====================================================================================\n",
      "\n"
     ]
    }
   ],
   "source": [
    "prompt_template_summary_5 = \"How would you briefly summarize the text?\"\n",
    "prompts_with_template_5 = [f\"{news_story} {prompt_template_summary_5}\" for news_story in news_stories]\n",
    "generation_5 = model.generate(prompts_with_template_5, long_generation_config)\n",
    "for summary, original_story in zip(generation_5.generation[\"text\"], news_stories):\n",
    "    print(f\"Prompt: {prompt_template_summary_5}\")\n",
    "    # Let's just take the first 3 sentences, split by periods\n",
    "    summary = post_process_generations(summary)\n",
    "    print(f\"Original Length: {len(original_story)}, Summary Length: {len(summary)}\")\n",
    "    print(summary)\n",
    "    print(\"====================================================================================\")\n",
    "    print(\"\")"
   ]
  },
  {
   "attachments": {},
   "cell_type": "markdown",
   "metadata": {},
   "source": [
    "Finally, let's ask what this story is about"
   ]
  },
  {
   "cell_type": "code",
   "execution_count": 18,
   "metadata": {},
   "outputs": [
    {
     "name": "stdout",
     "output_type": "stream",
     "text": [
      "Prompt: Briefly, what is this story about?\n",
      "Original Length: 1262, Summary Length: 136\n",
      "That's the question. It's not clear that the story is about anything in particular. I'm not sure that it's about anything in particular.\n",
      "====================================================================================\n",
      "\n",
      "Prompt: Briefly, what is this story about?\n",
      "Original Length: 1181, Summary Length: 202\n",
      "The story is about the severe storms that are predicted to hit California today. What is the forecast for California? The forecast for California is that the storms will hit the area today and tomorrow.\n",
      "====================================================================================\n",
      "\n",
      "Prompt: Briefly, what is this story about?\n",
      "Original Length: 1260, Summary Length: 211\n",
      "The state of West Virginia is asking the US Supreme Court to allow it to enforce a state law that prohibits transgender women and girls from participating in public school sports. What’s the background? GOP Gov.\n",
      "====================================================================================\n",
      "\n"
     ]
    }
   ],
   "source": [
    "prompt_template_summary_6 = \"Briefly, what is this story about?\"\n",
    "prompts_with_template_6 = [f\"{news_story} {prompt_template_summary_6}\" for news_story in news_stories]\n",
    "generation_6 = model.generate(prompts_with_template_6, long_generation_config)\n",
    "for summary, original_story in zip(generation_6.generation[\"text\"], news_stories):\n",
    "    print(f\"Prompt: {prompt_template_summary_6}\")\n",
    "    # Let's just take the first 3 sentences, split by periods\n",
    "    summary = post_process_generations(summary)\n",
    "    print(f\"Original Length: {len(original_story)}, Summary Length: {len(summary)}\")\n",
    "    print(summary)\n",
    "    print(\"====================================================================================\")\n",
    "    print(\"\")"
   ]
  },
  {
   "cell_type": "code",
   "execution_count": 19,
   "metadata": {},
   "outputs": [
    {
     "name": "stdout",
     "output_type": "stream",
     "text": [
      "Prompt: In short,\n",
      "Original Length: 1262, Summary Length: 280\n",
      "the Russians are making sure their clients have the best equipment, and in some cases, they're not even keeping the equipment they're taking. This is a good thing. It means that the Russians aren't stealing it, but are simply taking it from the battlefield and sending it to Iran.\n",
      "====================================================================================\n",
      "\n",
      "Prompt: In short,\n",
      "Original Length: 1181, Summary Length: 345\n",
      "it's a mess. The storm is expected to dump as much as 10 inches of rain in some areas, and the National Weather Service warned that the threat of mudslides will be \"high\" and that \"there is a potential for widespread flooding. In addition to the threat of heavy rain, there is a risk of damaging winds, according to the National Weather Service.\n",
      "====================================================================================\n",
      "\n",
      "Prompt: In short,\n",
      "Original Length: 1260, Summary Length: 321\n",
      "the case is about whether the West Virginia law violates Title IX. That’s the federal law that prohibits sex discrimination in education. The state’s law says that “no individual may participate in a public school sports program or activity” unless the individual’s sex matches the sex on the student’s birth certificate.\n",
      "====================================================================================\n",
      "\n"
     ]
    }
   ],
   "source": [
    "prompt_template_summary_7 = \"In short,\"\n",
    "prompts_with_template_7 = [f\"{news_story} {prompt_template_summary_7}\" for news_story in news_stories]\n",
    "generation_7 = model.generate(prompts_with_template_7, long_generation_config)\n",
    "for summary, original_story in zip(generation_7.generation[\"text\"], news_stories):\n",
    "    print(f\"Prompt: {prompt_template_summary_7}\")\n",
    "    # Let's just take the first 3 sentences, split by periods\n",
    "    summary = post_process_generations(summary)\n",
    "    print(f\"Original Length: {len(original_story)}, Summary Length: {len(summary)}\")\n",
    "    print(summary)\n",
    "    print(\"====================================================================================\")\n",
    "    print(\"\")"
   ]
  }
 ],
 "metadata": {
  "kernelspec": {
   "display_name": "opt_notebook",
   "language": "python",
   "name": "python3"
  },
  "language_info": {
   "codemirror_mode": {
    "name": "ipython",
    "version": 3
   },
   "file_extension": ".py",
   "mimetype": "text/x-python",
   "name": "python",
   "nbconvert_exporter": "python",
   "pygments_lexer": "ipython3",
   "version": "3.9.16"
  },
  "orig_nbformat": 4
 },
 "nbformat": 4,
 "nbformat_minor": 2
}
