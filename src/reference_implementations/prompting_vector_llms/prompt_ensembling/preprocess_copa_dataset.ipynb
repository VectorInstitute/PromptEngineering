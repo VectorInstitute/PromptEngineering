{
 "cells": [
  {
   "cell_type": "code",
   "execution_count": 2,
   "metadata": {},
   "outputs": [],
   "source": [
    "import pandas as pd"
   ]
  },
  {
   "cell_type": "code",
   "execution_count": 3,
   "metadata": {},
   "outputs": [],
   "source": [
    "copa_df = pd.read_xml(\"resources/balacopa-dev-all.xml\")\n",
    "sampled_copa_df = copa_df.sample(150).rename(\n",
    "    columns={\n",
    "        \"asks-for\": \"premise\",\n",
    "        \"most-plausible-alternative\": \"label\",\n",
    "        \"p\": \"phrase\",\n",
    "        \"a1\": \"choice_1\",\n",
    "        \"a2\": \"choice_2\",\n",
    "    }\n",
    ")\n",
    "sampled_copa_df[[\"premise\", \"label\", \"phrase\", \"choice_1\", \"choice_2\"]].to_csv(\n",
    "    \"resources/copa_sample.tsv\", sep=\"\\t\", index=False\n",
    ")"
   ]
  }
 ],
 "metadata": {
  "kernelspec": {
   "display_name": "opt_notebook",
   "language": "python",
   "name": "python3"
  },
  "language_info": {
   "codemirror_mode": {
    "name": "ipython",
    "version": 3
   },
   "file_extension": ".py",
   "mimetype": "text/x-python",
   "name": "python",
   "nbconvert_exporter": "python",
   "pygments_lexer": "ipython3",
   "version": "3.9.16"
  },
  "orig_nbformat": 4
 },
 "nbformat": 4,
 "nbformat_minor": 2
}
