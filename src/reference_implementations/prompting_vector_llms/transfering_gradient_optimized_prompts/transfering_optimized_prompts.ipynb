{
 "cells": [
  {
   "cell_type": "code",
   "execution_count": 2,
   "metadata": {},
   "outputs": [],
   "source": [
    "import time\n",
    "from typing import List, Tuple, Union\n",
    "\n",
    "import lingua\n",
    "import torch\n",
    "import torch.nn as nn\n",
    "from datasets import load_dataset\n",
    "from torch.utils.data import DataLoader\n",
    "from transformers import (\n",
    "    AutoTokenizer,\n",
    "    PreTrainedTokenizer,\n",
    "    PreTrainedTokenizerFast,\n",
    "    T5ForConditionalGeneration,\n",
    "    T5Tokenizer,\n",
    ")\n",
    "from transformers.modeling_outputs import Seq2SeqLMOutput\n",
    "from transformers.tokenization_utils_base import BatchEncoding"
   ]
  },
  {
   "attachments": {},
   "cell_type": "markdown",
   "metadata": {},
   "source": [
    "In this notebook, we'll perform a very simple experiment. The question is:\n",
    "\n",
    "Does the discrete prompt learned to optimize T5s ability to perform the SST2 sentiment analysis task also improve performance for OPT-6.7B?\n",
    "\n",
    "Our original prompt was \"Generate the sentiment of the next sentence. \". For T5, this prompt induced about 68% accuracy. After gradient based search optimization, we ended up with the prompt \"tumour negative .05. Positive respins the Contains sentence. \" with an accuracy of 81% and \"childcare negative .05. Positive respins wSt Thank sentence.\" with an accuracy of 83%.\n",
    "\n",
    "Let's determine if either of these odd but apparently performant prompts will improve results for OPT-6.7B over the original as well."
   ]
  },
  {
   "cell_type": "code",
   "execution_count": 22,
   "metadata": {},
   "outputs": [],
   "source": [
    "initial_prompt = \"Generate the sentiment of the next sentence. \"\n",
    "optimized_prompt_1 = \"tumour negative .05. Positive respins the Contains sentence. \"\n",
    "optimized_prompt_2 = \"childcare negative .05. Positive respins wSt Thank sentence. \"\n",
    "\n",
    "opt_tokenizer = AutoTokenizer.from_pretrained(\"facebook/opt-350m\")\n",
    "t5_tokenizer = T5Tokenizer.from_pretrained(\"google/t5-large-lm-adapt\")\n",
    "label_words = [\"negative\", \"positive\"]\n",
    "label_int_to_str = {0: \"pegative\", 1: \"positive\"}\n",
    "# How big should are inference batches be\n",
    "batch_size = 10\n",
    "# How many batches in total to process from the dataloader (batch_size*batches_to_sample = datapoints to process)\n",
    "batches_to_sample = 20"
   ]
  },
  {
   "cell_type": "code",
   "execution_count": 23,
   "metadata": {},
   "outputs": [
    {
     "name": "stderr",
     "output_type": "stream",
     "text": [
      "Found cached dataset sst2 (/Users/david/.cache/huggingface/datasets/sst2/default/2.0.0/9896208a8d85db057ac50c72282bcb8fe755accc671a57dd8059d4e130961ed5)\n"
     ]
    },
    {
     "data": {
      "text/plain": [
       "{'idx': 0,\n",
       " 'sentence': \"it 's a charming and often affecting journey . \",\n",
       " 'label': 1}"
      ]
     },
     "execution_count": 23,
     "metadata": {},
     "output_type": "execute_result"
    }
   ],
   "source": [
    "dataset = load_dataset(\"sst2\", split=\"validation\")\n",
    "dataloader = DataLoader(dataset, batch_size=10, shuffle=True)\n",
    "dataset[0]"
   ]
  },
  {
   "cell_type": "code",
   "execution_count": 27,
   "metadata": {},
   "outputs": [
    {
     "name": "stdout",
     "output_type": "stream",
     "text": [
      "[2, 40025, 877, 5, 5702, 9, 5, 220, 3645, 4, 38, 657, 42, 1569, 328, 2430]\n",
      "[2, 40025, 877, 5, 5702, 9, 5, 220, 3645, 4, 38, 657, 42, 1569, 328, 1313]\n",
      "[6939, 2206, 8, 6493, 13, 8, 416, 7142, 5, 27, 333, 48, 1974, 55, 2841, 1]\n",
      "[6939, 2206, 8, 6493, 13, 8, 416, 7142, 5, 27, 333, 48, 1974, 55, 1465, 1]\n"
     ]
    }
   ],
   "source": [
    "# Need to grab the token id associated with the label words for both opt and t5\n",
    "\n",
    "dummy_sentence = \"I love this movie!\"\n",
    "print(opt_tokenizer(f\"{initial_prompt}{dummy_sentence} negative\")[\"input_ids\"])\n",
    "print(opt_tokenizer(f\"{initial_prompt}{dummy_sentence} positive\")[\"input_ids\"])\n",
    "print(t5_tokenizer(f\"{initial_prompt}{dummy_sentence} negative </s>\", add_special_tokens=False)[\"input_ids\"])\n",
    "print(t5_tokenizer(f\"{initial_prompt}{dummy_sentence} positive </s>\", add_special_tokens=False)[\"input_ids\"])"
   ]
  },
  {
   "cell_type": "code",
   "execution_count": null,
   "metadata": {},
   "outputs": [],
   "source": [
    "opt_label_tokens = {\"negative\": [2430], \"positive\": [1313]}\n",
    "t5_label_tokens = {\"negative\": [2841], \"positive\": [1465]}"
   ]
  },
  {
   "attachments": {},
   "cell_type": "markdown",
   "metadata": {},
   "source": [
    "Note that the T5 tokenizer splits the \"Negative\" word into two tokens, which we'll need to be aware of when computing logits."
   ]
  },
  {
   "attachments": {},
   "cell_type": "markdown",
   "metadata": {},
   "source": [
    "We'll start by measuring the performance of OPT-6.7B with the initial prompt"
   ]
  },
  {
   "cell_type": "code",
   "execution_count": 6,
   "metadata": {},
   "outputs": [
    {
     "ename": "ConnectionError",
     "evalue": "HTTPConnectionPool(host='llm.cluster.local', port=3001): Max retries exceeded with url: /models/instances (Caused by NewConnectionError('<urllib3.connection.HTTPConnection object at 0x12943d160>: Failed to establish a new connection: [Errno 8] nodename nor servname provided, or not known'))",
     "output_type": "error",
     "traceback": [
      "\u001b[0;31m---------------------------------------------------------------------------\u001b[0m",
      "\u001b[0;31mgaierror\u001b[0m                                  Traceback (most recent call last)",
      "File \u001b[0;32m/usr/local/anaconda3/envs/opt_notebook/lib/python3.9/site-packages/urllib3/connection.py:174\u001b[0m, in \u001b[0;36mHTTPConnection._new_conn\u001b[0;34m(self)\u001b[0m\n\u001b[1;32m    173\u001b[0m \u001b[39mtry\u001b[39;00m:\n\u001b[0;32m--> 174\u001b[0m     conn \u001b[39m=\u001b[39m connection\u001b[39m.\u001b[39;49mcreate_connection(\n\u001b[1;32m    175\u001b[0m         (\u001b[39mself\u001b[39;49m\u001b[39m.\u001b[39;49m_dns_host, \u001b[39mself\u001b[39;49m\u001b[39m.\u001b[39;49mport), \u001b[39mself\u001b[39;49m\u001b[39m.\u001b[39;49mtimeout, \u001b[39m*\u001b[39;49m\u001b[39m*\u001b[39;49mextra_kw\n\u001b[1;32m    176\u001b[0m     )\n\u001b[1;32m    178\u001b[0m \u001b[39mexcept\u001b[39;00m SocketTimeout:\n",
      "File \u001b[0;32m/usr/local/anaconda3/envs/opt_notebook/lib/python3.9/site-packages/urllib3/util/connection.py:72\u001b[0m, in \u001b[0;36mcreate_connection\u001b[0;34m(address, timeout, source_address, socket_options)\u001b[0m\n\u001b[1;32m     68\u001b[0m     \u001b[39mreturn\u001b[39;00m six\u001b[39m.\u001b[39mraise_from(\n\u001b[1;32m     69\u001b[0m         LocationParseError(\u001b[39mu\u001b[39m\u001b[39m\"\u001b[39m\u001b[39m'\u001b[39m\u001b[39m%s\u001b[39;00m\u001b[39m'\u001b[39m\u001b[39m, label empty or too long\u001b[39m\u001b[39m\"\u001b[39m \u001b[39m%\u001b[39m host), \u001b[39mNone\u001b[39;00m\n\u001b[1;32m     70\u001b[0m     )\n\u001b[0;32m---> 72\u001b[0m \u001b[39mfor\u001b[39;00m res \u001b[39min\u001b[39;00m socket\u001b[39m.\u001b[39;49mgetaddrinfo(host, port, family, socket\u001b[39m.\u001b[39;49mSOCK_STREAM):\n\u001b[1;32m     73\u001b[0m     af, socktype, proto, canonname, sa \u001b[39m=\u001b[39m res\n",
      "File \u001b[0;32m/usr/local/anaconda3/envs/opt_notebook/lib/python3.9/socket.py:954\u001b[0m, in \u001b[0;36mgetaddrinfo\u001b[0;34m(host, port, family, type, proto, flags)\u001b[0m\n\u001b[1;32m    953\u001b[0m addrlist \u001b[39m=\u001b[39m []\n\u001b[0;32m--> 954\u001b[0m \u001b[39mfor\u001b[39;00m res \u001b[39min\u001b[39;00m _socket\u001b[39m.\u001b[39;49mgetaddrinfo(host, port, family, \u001b[39mtype\u001b[39;49m, proto, flags):\n\u001b[1;32m    955\u001b[0m     af, socktype, proto, canonname, sa \u001b[39m=\u001b[39m res\n",
      "\u001b[0;31mgaierror\u001b[0m: [Errno 8] nodename nor servname provided, or not known",
      "\nDuring handling of the above exception, another exception occurred:\n",
      "\u001b[0;31mNewConnectionError\u001b[0m                        Traceback (most recent call last)",
      "File \u001b[0;32m/usr/local/anaconda3/envs/opt_notebook/lib/python3.9/site-packages/urllib3/connectionpool.py:703\u001b[0m, in \u001b[0;36mHTTPConnectionPool.urlopen\u001b[0;34m(self, method, url, body, headers, retries, redirect, assert_same_host, timeout, pool_timeout, release_conn, chunked, body_pos, **response_kw)\u001b[0m\n\u001b[1;32m    702\u001b[0m \u001b[39m# Make the request on the httplib connection object.\u001b[39;00m\n\u001b[0;32m--> 703\u001b[0m httplib_response \u001b[39m=\u001b[39m \u001b[39mself\u001b[39;49m\u001b[39m.\u001b[39;49m_make_request(\n\u001b[1;32m    704\u001b[0m     conn,\n\u001b[1;32m    705\u001b[0m     method,\n\u001b[1;32m    706\u001b[0m     url,\n\u001b[1;32m    707\u001b[0m     timeout\u001b[39m=\u001b[39;49mtimeout_obj,\n\u001b[1;32m    708\u001b[0m     body\u001b[39m=\u001b[39;49mbody,\n\u001b[1;32m    709\u001b[0m     headers\u001b[39m=\u001b[39;49mheaders,\n\u001b[1;32m    710\u001b[0m     chunked\u001b[39m=\u001b[39;49mchunked,\n\u001b[1;32m    711\u001b[0m )\n\u001b[1;32m    713\u001b[0m \u001b[39m# If we're going to release the connection in ``finally:``, then\u001b[39;00m\n\u001b[1;32m    714\u001b[0m \u001b[39m# the response doesn't need to know about the connection. Otherwise\u001b[39;00m\n\u001b[1;32m    715\u001b[0m \u001b[39m# it will also try to release it and we'll have a double-release\u001b[39;00m\n\u001b[1;32m    716\u001b[0m \u001b[39m# mess.\u001b[39;00m\n",
      "File \u001b[0;32m/usr/local/anaconda3/envs/opt_notebook/lib/python3.9/site-packages/urllib3/connectionpool.py:398\u001b[0m, in \u001b[0;36mHTTPConnectionPool._make_request\u001b[0;34m(self, conn, method, url, timeout, chunked, **httplib_request_kw)\u001b[0m\n\u001b[1;32m    397\u001b[0m     \u001b[39melse\u001b[39;00m:\n\u001b[0;32m--> 398\u001b[0m         conn\u001b[39m.\u001b[39;49mrequest(method, url, \u001b[39m*\u001b[39;49m\u001b[39m*\u001b[39;49mhttplib_request_kw)\n\u001b[1;32m    400\u001b[0m \u001b[39m# We are swallowing BrokenPipeError (errno.EPIPE) since the server is\u001b[39;00m\n\u001b[1;32m    401\u001b[0m \u001b[39m# legitimately able to close the connection after sending a valid response.\u001b[39;00m\n\u001b[1;32m    402\u001b[0m \u001b[39m# With this behaviour, the received response is still readable.\u001b[39;00m\n",
      "File \u001b[0;32m/usr/local/anaconda3/envs/opt_notebook/lib/python3.9/site-packages/urllib3/connection.py:239\u001b[0m, in \u001b[0;36mHTTPConnection.request\u001b[0;34m(self, method, url, body, headers)\u001b[0m\n\u001b[1;32m    238\u001b[0m     headers[\u001b[39m\"\u001b[39m\u001b[39mUser-Agent\u001b[39m\u001b[39m\"\u001b[39m] \u001b[39m=\u001b[39m _get_default_user_agent()\n\u001b[0;32m--> 239\u001b[0m \u001b[39msuper\u001b[39;49m(HTTPConnection, \u001b[39mself\u001b[39;49m)\u001b[39m.\u001b[39;49mrequest(method, url, body\u001b[39m=\u001b[39;49mbody, headers\u001b[39m=\u001b[39;49mheaders)\n",
      "File \u001b[0;32m/usr/local/anaconda3/envs/opt_notebook/lib/python3.9/http/client.py:1285\u001b[0m, in \u001b[0;36mHTTPConnection.request\u001b[0;34m(self, method, url, body, headers, encode_chunked)\u001b[0m\n\u001b[1;32m   1284\u001b[0m \u001b[39m\u001b[39m\u001b[39m\"\"\"Send a complete request to the server.\"\"\"\u001b[39;00m\n\u001b[0;32m-> 1285\u001b[0m \u001b[39mself\u001b[39;49m\u001b[39m.\u001b[39;49m_send_request(method, url, body, headers, encode_chunked)\n",
      "File \u001b[0;32m/usr/local/anaconda3/envs/opt_notebook/lib/python3.9/http/client.py:1331\u001b[0m, in \u001b[0;36mHTTPConnection._send_request\u001b[0;34m(self, method, url, body, headers, encode_chunked)\u001b[0m\n\u001b[1;32m   1330\u001b[0m     body \u001b[39m=\u001b[39m _encode(body, \u001b[39m'\u001b[39m\u001b[39mbody\u001b[39m\u001b[39m'\u001b[39m)\n\u001b[0;32m-> 1331\u001b[0m \u001b[39mself\u001b[39;49m\u001b[39m.\u001b[39;49mendheaders(body, encode_chunked\u001b[39m=\u001b[39;49mencode_chunked)\n",
      "File \u001b[0;32m/usr/local/anaconda3/envs/opt_notebook/lib/python3.9/http/client.py:1280\u001b[0m, in \u001b[0;36mHTTPConnection.endheaders\u001b[0;34m(self, message_body, encode_chunked)\u001b[0m\n\u001b[1;32m   1279\u001b[0m     \u001b[39mraise\u001b[39;00m CannotSendHeader()\n\u001b[0;32m-> 1280\u001b[0m \u001b[39mself\u001b[39;49m\u001b[39m.\u001b[39;49m_send_output(message_body, encode_chunked\u001b[39m=\u001b[39;49mencode_chunked)\n",
      "File \u001b[0;32m/usr/local/anaconda3/envs/opt_notebook/lib/python3.9/http/client.py:1040\u001b[0m, in \u001b[0;36mHTTPConnection._send_output\u001b[0;34m(self, message_body, encode_chunked)\u001b[0m\n\u001b[1;32m   1039\u001b[0m \u001b[39mdel\u001b[39;00m \u001b[39mself\u001b[39m\u001b[39m.\u001b[39m_buffer[:]\n\u001b[0;32m-> 1040\u001b[0m \u001b[39mself\u001b[39;49m\u001b[39m.\u001b[39;49msend(msg)\n\u001b[1;32m   1042\u001b[0m \u001b[39mif\u001b[39;00m message_body \u001b[39mis\u001b[39;00m \u001b[39mnot\u001b[39;00m \u001b[39mNone\u001b[39;00m:\n\u001b[1;32m   1043\u001b[0m \n\u001b[1;32m   1044\u001b[0m     \u001b[39m# create a consistent interface to message_body\u001b[39;00m\n",
      "File \u001b[0;32m/usr/local/anaconda3/envs/opt_notebook/lib/python3.9/http/client.py:980\u001b[0m, in \u001b[0;36mHTTPConnection.send\u001b[0;34m(self, data)\u001b[0m\n\u001b[1;32m    979\u001b[0m \u001b[39mif\u001b[39;00m \u001b[39mself\u001b[39m\u001b[39m.\u001b[39mauto_open:\n\u001b[0;32m--> 980\u001b[0m     \u001b[39mself\u001b[39;49m\u001b[39m.\u001b[39;49mconnect()\n\u001b[1;32m    981\u001b[0m \u001b[39melse\u001b[39;00m:\n",
      "File \u001b[0;32m/usr/local/anaconda3/envs/opt_notebook/lib/python3.9/site-packages/urllib3/connection.py:205\u001b[0m, in \u001b[0;36mHTTPConnection.connect\u001b[0;34m(self)\u001b[0m\n\u001b[1;32m    204\u001b[0m \u001b[39mdef\u001b[39;00m \u001b[39mconnect\u001b[39m(\u001b[39mself\u001b[39m):\n\u001b[0;32m--> 205\u001b[0m     conn \u001b[39m=\u001b[39m \u001b[39mself\u001b[39;49m\u001b[39m.\u001b[39;49m_new_conn()\n\u001b[1;32m    206\u001b[0m     \u001b[39mself\u001b[39m\u001b[39m.\u001b[39m_prepare_conn(conn)\n",
      "File \u001b[0;32m/usr/local/anaconda3/envs/opt_notebook/lib/python3.9/site-packages/urllib3/connection.py:186\u001b[0m, in \u001b[0;36mHTTPConnection._new_conn\u001b[0;34m(self)\u001b[0m\n\u001b[1;32m    185\u001b[0m \u001b[39mexcept\u001b[39;00m SocketError \u001b[39mas\u001b[39;00m e:\n\u001b[0;32m--> 186\u001b[0m     \u001b[39mraise\u001b[39;00m NewConnectionError(\n\u001b[1;32m    187\u001b[0m         \u001b[39mself\u001b[39m, \u001b[39m\"\u001b[39m\u001b[39mFailed to establish a new connection: \u001b[39m\u001b[39m%s\u001b[39;00m\u001b[39m\"\u001b[39m \u001b[39m%\u001b[39m e\n\u001b[1;32m    188\u001b[0m     )\n\u001b[1;32m    190\u001b[0m \u001b[39mreturn\u001b[39;00m conn\n",
      "\u001b[0;31mNewConnectionError\u001b[0m: <urllib3.connection.HTTPConnection object at 0x12943d160>: Failed to establish a new connection: [Errno 8] nodename nor servname provided, or not known",
      "\nDuring handling of the above exception, another exception occurred:\n",
      "\u001b[0;31mMaxRetryError\u001b[0m                             Traceback (most recent call last)",
      "File \u001b[0;32m/usr/local/anaconda3/envs/opt_notebook/lib/python3.9/site-packages/requests/adapters.py:489\u001b[0m, in \u001b[0;36mHTTPAdapter.send\u001b[0;34m(self, request, stream, timeout, verify, cert, proxies)\u001b[0m\n\u001b[1;32m    488\u001b[0m \u001b[39mif\u001b[39;00m \u001b[39mnot\u001b[39;00m chunked:\n\u001b[0;32m--> 489\u001b[0m     resp \u001b[39m=\u001b[39m conn\u001b[39m.\u001b[39;49murlopen(\n\u001b[1;32m    490\u001b[0m         method\u001b[39m=\u001b[39;49mrequest\u001b[39m.\u001b[39;49mmethod,\n\u001b[1;32m    491\u001b[0m         url\u001b[39m=\u001b[39;49murl,\n\u001b[1;32m    492\u001b[0m         body\u001b[39m=\u001b[39;49mrequest\u001b[39m.\u001b[39;49mbody,\n\u001b[1;32m    493\u001b[0m         headers\u001b[39m=\u001b[39;49mrequest\u001b[39m.\u001b[39;49mheaders,\n\u001b[1;32m    494\u001b[0m         redirect\u001b[39m=\u001b[39;49m\u001b[39mFalse\u001b[39;49;00m,\n\u001b[1;32m    495\u001b[0m         assert_same_host\u001b[39m=\u001b[39;49m\u001b[39mFalse\u001b[39;49;00m,\n\u001b[1;32m    496\u001b[0m         preload_content\u001b[39m=\u001b[39;49m\u001b[39mFalse\u001b[39;49;00m,\n\u001b[1;32m    497\u001b[0m         decode_content\u001b[39m=\u001b[39;49m\u001b[39mFalse\u001b[39;49;00m,\n\u001b[1;32m    498\u001b[0m         retries\u001b[39m=\u001b[39;49m\u001b[39mself\u001b[39;49m\u001b[39m.\u001b[39;49mmax_retries,\n\u001b[1;32m    499\u001b[0m         timeout\u001b[39m=\u001b[39;49mtimeout,\n\u001b[1;32m    500\u001b[0m     )\n\u001b[1;32m    502\u001b[0m \u001b[39m# Send the request.\u001b[39;00m\n\u001b[1;32m    503\u001b[0m \u001b[39melse\u001b[39;00m:\n",
      "File \u001b[0;32m/usr/local/anaconda3/envs/opt_notebook/lib/python3.9/site-packages/urllib3/connectionpool.py:787\u001b[0m, in \u001b[0;36mHTTPConnectionPool.urlopen\u001b[0;34m(self, method, url, body, headers, retries, redirect, assert_same_host, timeout, pool_timeout, release_conn, chunked, body_pos, **response_kw)\u001b[0m\n\u001b[1;32m    785\u001b[0m     e \u001b[39m=\u001b[39m ProtocolError(\u001b[39m\"\u001b[39m\u001b[39mConnection aborted.\u001b[39m\u001b[39m\"\u001b[39m, e)\n\u001b[0;32m--> 787\u001b[0m retries \u001b[39m=\u001b[39m retries\u001b[39m.\u001b[39;49mincrement(\n\u001b[1;32m    788\u001b[0m     method, url, error\u001b[39m=\u001b[39;49me, _pool\u001b[39m=\u001b[39;49m\u001b[39mself\u001b[39;49m, _stacktrace\u001b[39m=\u001b[39;49msys\u001b[39m.\u001b[39;49mexc_info()[\u001b[39m2\u001b[39;49m]\n\u001b[1;32m    789\u001b[0m )\n\u001b[1;32m    790\u001b[0m retries\u001b[39m.\u001b[39msleep()\n",
      "File \u001b[0;32m/usr/local/anaconda3/envs/opt_notebook/lib/python3.9/site-packages/urllib3/util/retry.py:592\u001b[0m, in \u001b[0;36mRetry.increment\u001b[0;34m(self, method, url, response, error, _pool, _stacktrace)\u001b[0m\n\u001b[1;32m    591\u001b[0m \u001b[39mif\u001b[39;00m new_retry\u001b[39m.\u001b[39mis_exhausted():\n\u001b[0;32m--> 592\u001b[0m     \u001b[39mraise\u001b[39;00m MaxRetryError(_pool, url, error \u001b[39mor\u001b[39;00m ResponseError(cause))\n\u001b[1;32m    594\u001b[0m log\u001b[39m.\u001b[39mdebug(\u001b[39m\"\u001b[39m\u001b[39mIncremented Retry for (url=\u001b[39m\u001b[39m'\u001b[39m\u001b[39m%s\u001b[39;00m\u001b[39m'\u001b[39m\u001b[39m): \u001b[39m\u001b[39m%r\u001b[39;00m\u001b[39m\"\u001b[39m, url, new_retry)\n",
      "\u001b[0;31mMaxRetryError\u001b[0m: HTTPConnectionPool(host='llm.cluster.local', port=3001): Max retries exceeded with url: /models/instances (Caused by NewConnectionError('<urllib3.connection.HTTPConnection object at 0x12943d160>: Failed to establish a new connection: [Errno 8] nodename nor servname provided, or not known'))",
      "\nDuring handling of the above exception, another exception occurred:\n",
      "\u001b[0;31mConnectionError\u001b[0m                           Traceback (most recent call last)",
      "Cell \u001b[0;32mIn[6], line 2\u001b[0m\n\u001b[1;32m      1\u001b[0m client \u001b[39m=\u001b[39m lingua\u001b[39m.\u001b[39mClient(gateway_host\u001b[39m=\u001b[39m\u001b[39m\"\u001b[39m\u001b[39mllm.cluster.local\u001b[39m\u001b[39m\"\u001b[39m, gateway_port\u001b[39m=\u001b[39m\u001b[39m3001\u001b[39m)\n\u001b[0;32m----> 2\u001b[0m client\u001b[39m.\u001b[39;49mmodel_instances\n",
      "File \u001b[0;32m/usr/local/anaconda3/envs/opt_notebook/lib/python3.9/site-packages/lingua/lingua_sdk.py:87\u001b[0m, in \u001b[0;36mClient.model_instances\u001b[0;34m(self)\u001b[0m\n\u001b[1;32m     84\u001b[0m \u001b[39m@property\u001b[39m\n\u001b[1;32m     85\u001b[0m \u001b[39mdef\u001b[39;00m \u001b[39mmodel_instances\u001b[39m(\u001b[39mself\u001b[39m):\n\u001b[1;32m     86\u001b[0m \u001b[39m    \u001b[39m\u001b[39m\"\"\"Returns a list of available model instances\"\"\"\u001b[39;00m\n\u001b[0;32m---> 87\u001b[0m     \u001b[39mreturn\u001b[39;00m \u001b[39mself\u001b[39;49m\u001b[39m.\u001b[39;49m_session\u001b[39m.\u001b[39;49mget_model_instances()\n",
      "File \u001b[0;32m/usr/local/anaconda3/envs/opt_notebook/lib/python3.9/site-packages/lingua/lingua_sdk.py:142\u001b[0m, in \u001b[0;36mGatewaySession.get_model_instances\u001b[0;34m(self)\u001b[0m\n\u001b[1;32m    140\u001b[0m \u001b[39mdef\u001b[39;00m \u001b[39mget_model_instances\u001b[39m(\u001b[39mself\u001b[39m):\n\u001b[1;32m    141\u001b[0m     url \u001b[39m=\u001b[39m \u001b[39mself\u001b[39m\u001b[39m.\u001b[39mcreate_addr(\u001b[39m\"\u001b[39m\u001b[39mmodels/instances\u001b[39m\u001b[39m\"\u001b[39m)\n\u001b[0;32m--> 142\u001b[0m     response \u001b[39m=\u001b[39m get(url)\n\u001b[1;32m    143\u001b[0m     \u001b[39mreturn\u001b[39;00m response\n",
      "File \u001b[0;32m/usr/local/anaconda3/envs/opt_notebook/lib/python3.9/site-packages/lingua/utils.py:45\u001b[0m, in \u001b[0;36mget\u001b[0;34m(addr, auth_key, headers)\u001b[0m\n\u001b[1;32m     42\u001b[0m \u001b[39mif\u001b[39;00m auth_key:\n\u001b[1;32m     43\u001b[0m     headers[\u001b[39m\"\u001b[39m\u001b[39mAuthorization\u001b[39m\u001b[39m\"\u001b[39m] \u001b[39m=\u001b[39m \u001b[39mf\u001b[39m\u001b[39m\"\u001b[39m\u001b[39mBearer \u001b[39m\u001b[39m{\u001b[39;00mauth_key\u001b[39m}\u001b[39;00m\u001b[39m\"\u001b[39m\n\u001b[0;32m---> 45\u001b[0m resp \u001b[39m=\u001b[39m requests\u001b[39m.\u001b[39;49mget(addr, headers\u001b[39m=\u001b[39;49mheaders)\n\u001b[1;32m     46\u001b[0m check_response(resp)\n\u001b[1;32m     48\u001b[0m \u001b[39mreturn\u001b[39;00m resp\u001b[39m.\u001b[39mjson()\n",
      "File \u001b[0;32m/usr/local/anaconda3/envs/opt_notebook/lib/python3.9/site-packages/requests/api.py:73\u001b[0m, in \u001b[0;36mget\u001b[0;34m(url, params, **kwargs)\u001b[0m\n\u001b[1;32m     62\u001b[0m \u001b[39mdef\u001b[39;00m \u001b[39mget\u001b[39m(url, params\u001b[39m=\u001b[39m\u001b[39mNone\u001b[39;00m, \u001b[39m*\u001b[39m\u001b[39m*\u001b[39mkwargs):\n\u001b[1;32m     63\u001b[0m \u001b[39m    \u001b[39m\u001b[39mr\u001b[39m\u001b[39m\"\"\"Sends a GET request.\u001b[39;00m\n\u001b[1;32m     64\u001b[0m \n\u001b[1;32m     65\u001b[0m \u001b[39m    :param url: URL for the new :class:`Request` object.\u001b[39;00m\n\u001b[0;32m   (...)\u001b[0m\n\u001b[1;32m     70\u001b[0m \u001b[39m    :rtype: requests.Response\u001b[39;00m\n\u001b[1;32m     71\u001b[0m \u001b[39m    \"\"\"\u001b[39;00m\n\u001b[0;32m---> 73\u001b[0m     \u001b[39mreturn\u001b[39;00m request(\u001b[39m\"\u001b[39;49m\u001b[39mget\u001b[39;49m\u001b[39m\"\u001b[39;49m, url, params\u001b[39m=\u001b[39;49mparams, \u001b[39m*\u001b[39;49m\u001b[39m*\u001b[39;49mkwargs)\n",
      "File \u001b[0;32m/usr/local/anaconda3/envs/opt_notebook/lib/python3.9/site-packages/requests/api.py:59\u001b[0m, in \u001b[0;36mrequest\u001b[0;34m(method, url, **kwargs)\u001b[0m\n\u001b[1;32m     55\u001b[0m \u001b[39m# By using the 'with' statement we are sure the session is closed, thus we\u001b[39;00m\n\u001b[1;32m     56\u001b[0m \u001b[39m# avoid leaving sockets open which can trigger a ResourceWarning in some\u001b[39;00m\n\u001b[1;32m     57\u001b[0m \u001b[39m# cases, and look like a memory leak in others.\u001b[39;00m\n\u001b[1;32m     58\u001b[0m \u001b[39mwith\u001b[39;00m sessions\u001b[39m.\u001b[39mSession() \u001b[39mas\u001b[39;00m session:\n\u001b[0;32m---> 59\u001b[0m     \u001b[39mreturn\u001b[39;00m session\u001b[39m.\u001b[39;49mrequest(method\u001b[39m=\u001b[39;49mmethod, url\u001b[39m=\u001b[39;49murl, \u001b[39m*\u001b[39;49m\u001b[39m*\u001b[39;49mkwargs)\n",
      "File \u001b[0;32m/usr/local/anaconda3/envs/opt_notebook/lib/python3.9/site-packages/requests/sessions.py:587\u001b[0m, in \u001b[0;36mSession.request\u001b[0;34m(self, method, url, params, data, headers, cookies, files, auth, timeout, allow_redirects, proxies, hooks, stream, verify, cert, json)\u001b[0m\n\u001b[1;32m    582\u001b[0m send_kwargs \u001b[39m=\u001b[39m {\n\u001b[1;32m    583\u001b[0m     \u001b[39m\"\u001b[39m\u001b[39mtimeout\u001b[39m\u001b[39m\"\u001b[39m: timeout,\n\u001b[1;32m    584\u001b[0m     \u001b[39m\"\u001b[39m\u001b[39mallow_redirects\u001b[39m\u001b[39m\"\u001b[39m: allow_redirects,\n\u001b[1;32m    585\u001b[0m }\n\u001b[1;32m    586\u001b[0m send_kwargs\u001b[39m.\u001b[39mupdate(settings)\n\u001b[0;32m--> 587\u001b[0m resp \u001b[39m=\u001b[39m \u001b[39mself\u001b[39;49m\u001b[39m.\u001b[39;49msend(prep, \u001b[39m*\u001b[39;49m\u001b[39m*\u001b[39;49msend_kwargs)\n\u001b[1;32m    589\u001b[0m \u001b[39mreturn\u001b[39;00m resp\n",
      "File \u001b[0;32m/usr/local/anaconda3/envs/opt_notebook/lib/python3.9/site-packages/requests/sessions.py:701\u001b[0m, in \u001b[0;36mSession.send\u001b[0;34m(self, request, **kwargs)\u001b[0m\n\u001b[1;32m    698\u001b[0m start \u001b[39m=\u001b[39m preferred_clock()\n\u001b[1;32m    700\u001b[0m \u001b[39m# Send the request\u001b[39;00m\n\u001b[0;32m--> 701\u001b[0m r \u001b[39m=\u001b[39m adapter\u001b[39m.\u001b[39;49msend(request, \u001b[39m*\u001b[39;49m\u001b[39m*\u001b[39;49mkwargs)\n\u001b[1;32m    703\u001b[0m \u001b[39m# Total elapsed time of the request (approximately)\u001b[39;00m\n\u001b[1;32m    704\u001b[0m elapsed \u001b[39m=\u001b[39m preferred_clock() \u001b[39m-\u001b[39m start\n",
      "File \u001b[0;32m/usr/local/anaconda3/envs/opt_notebook/lib/python3.9/site-packages/requests/adapters.py:565\u001b[0m, in \u001b[0;36mHTTPAdapter.send\u001b[0;34m(self, request, stream, timeout, verify, cert, proxies)\u001b[0m\n\u001b[1;32m    561\u001b[0m     \u001b[39mif\u001b[39;00m \u001b[39misinstance\u001b[39m(e\u001b[39m.\u001b[39mreason, _SSLError):\n\u001b[1;32m    562\u001b[0m         \u001b[39m# This branch is for urllib3 v1.22 and later.\u001b[39;00m\n\u001b[1;32m    563\u001b[0m         \u001b[39mraise\u001b[39;00m SSLError(e, request\u001b[39m=\u001b[39mrequest)\n\u001b[0;32m--> 565\u001b[0m     \u001b[39mraise\u001b[39;00m \u001b[39mConnectionError\u001b[39;00m(e, request\u001b[39m=\u001b[39mrequest)\n\u001b[1;32m    567\u001b[0m \u001b[39mexcept\u001b[39;00m ClosedPoolError \u001b[39mas\u001b[39;00m e:\n\u001b[1;32m    568\u001b[0m     \u001b[39mraise\u001b[39;00m \u001b[39mConnectionError\u001b[39;00m(e, request\u001b[39m=\u001b[39mrequest)\n",
      "\u001b[0;31mConnectionError\u001b[0m: HTTPConnectionPool(host='llm.cluster.local', port=3001): Max retries exceeded with url: /models/instances (Caused by NewConnectionError('<urllib3.connection.HTTPConnection object at 0x12943d160>: Failed to establish a new connection: [Errno 8] nodename nor servname provided, or not known'))"
     ]
    }
   ],
   "source": [
    "client = lingua.Client(gateway_host=\"llm.cluster.local\", gateway_port=3001)\n",
    "client.model_instances"
   ]
  },
  {
   "cell_type": "code",
   "execution_count": null,
   "metadata": {},
   "outputs": [],
   "source": [
    "model = client.load_model(\"OPT-6.7B\")\n",
    "# If this model is not actively running, it will get launched in the background.\n",
    "# In this case, wait until it moves into an \"ACTIVE\" state before proceeding.\n",
    "while model.state != \"ACTIVE\":\n",
    "    time.sleep(1)\n",
    "\n",
    "short_generation_config = {\"max_tokens\": 2, \"top_k\": 4, \"top_p\": 3, \"rep_penalty\": 1.0, \"temperature\": 1.0}"
   ]
  },
  {
   "cell_type": "code",
   "execution_count": null,
   "metadata": {},
   "outputs": [],
   "source": [
    "# We're interested in the activations from the last layer of the model, because this will allow us to caculation the\n",
    "# likelihoods\n",
    "last_layer_name = model.module_names[-1]\n",
    "last_layer_name"
   ]
  },
  {
   "cell_type": "code",
   "execution_count": 6,
   "metadata": {},
   "outputs": [],
   "source": [
    "def create_prompt_str(instruction: str, sentences: List[str]) -> List[str]:\n",
    "    return [f\"{instruction}{sentence}\" for sentence in sentences]"
   ]
  },
  {
   "attachments": {},
   "cell_type": "markdown",
   "metadata": {},
   "source": [
    "Let's take a look at the prompts we're creating"
   ]
  },
  {
   "cell_type": "code",
   "execution_count": 7,
   "metadata": {},
   "outputs": [
    {
     "name": "stdout",
     "output_type": "stream",
     "text": [
      "Generate the sentiment of the next sentence. a disappointment for those who love alternate versions of the bard , particularly ones that involve deep fryers and hamburgers . \n",
      "tumour negative .05. Positive respins the Contains sentence. a disappointment for those who love alternate versions of the bard , particularly ones that involve deep fryers and hamburgers . \n",
      "childcare negative .05. Positive respins wSt Thank sentence. a disappointment for those who love alternate versions of the bard , particularly ones that involve deep fryers and hamburgers . \n"
     ]
    }
   ],
   "source": [
    "example_batch = next(iter(dataloader))\n",
    "example_prompts_initial = create_prompt_str(initial_prompt, example_batch[\"sentence\"])\n",
    "example_prompts_optimized_1 = create_prompt_str(optimized_prompt_1, example_batch[\"sentence\"])\n",
    "example_prompts_optimized_2 = create_prompt_str(optimized_prompt_2, example_batch[\"sentence\"])\n",
    "print(example_prompts_initial[0])\n",
    "print(example_prompts_optimized_1[0])\n",
    "print(example_prompts_optimized_2[0])"
   ]
  },
  {
   "cell_type": "code",
   "execution_count": 15,
   "metadata": {},
   "outputs": [],
   "source": [
    "def select_label_from_activations_opt(label_token_ids: torch.Tensor, layer_matrix: torch.Tensor) -> int:\n",
    "    # The activations we care about are the last token (corresponding to our label token) and the values for our label\n",
    "    #  vocabulary\n",
    "    label_activations = layer_matrix[-1][label_token_ids].float()\n",
    "    softmax = nn.Softmax(dim=0)\n",
    "    # Softmax is not strictly necessary, but it helps to contextualize the \"probability\" the model associates with each\n",
    "    # label relative to the others\n",
    "    label_distributions = softmax(label_activations)\n",
    "    # We select the label index with the largest value\n",
    "    max_label_index = torch.argmax(label_distributions)\n",
    "    return max_label_index"
   ]
  },
  {
   "cell_type": "code",
   "execution_count": 8,
   "metadata": {},
   "outputs": [],
   "source": [
    "report: List[Tuple[str, float]] = []"
   ]
  },
  {
   "cell_type": "code",
   "execution_count": null,
   "metadata": {},
   "outputs": [],
   "source": [
    "correct = 0\n",
    "total = 0\n",
    "label_token_ids = torch.Tensor([opt_label_tokens[\"negative\"], opt_label_tokens[\"positive\"]])\n",
    "for batch_num, batch in enumerate(dataloader):\n",
    "    prompts = create_prompt_str(initial_prompt, batch[\"sentence\"])\n",
    "    labels = batch[\"label\"]\n",
    "    activations = model.get_activations(prompts, [last_layer_name], short_generation_config)\n",
    "    print(f\"Batch number {batch_num+1} Complete\")\n",
    "    for activations_single_prompt, label in zip(activations.activations, labels):\n",
    "        last_layer_matrix = activations_single_prompt[last_layer_name]\n",
    "        predicted_label = select_label_from_activations_opt(label_token_ids, last_layer_matrix)\n",
    "        if predicted_label == int(label.item()):\n",
    "            correct += 1\n",
    "        total += 1\n",
    "    if batch_num + 1 == batches_to_sample:\n",
    "        break\n",
    "accuracy = correct / total\n",
    "report.append((initial_prompt, accuracy))"
   ]
  },
  {
   "cell_type": "code",
   "execution_count": null,
   "metadata": {},
   "outputs": [],
   "source": [
    "print(f\"Accuracy: {accuracy}\")"
   ]
  },
  {
   "attachments": {},
   "cell_type": "markdown",
   "metadata": {},
   "source": [
    "Now let's try both of our \"optimized prompts\""
   ]
  },
  {
   "cell_type": "code",
   "execution_count": null,
   "metadata": {},
   "outputs": [],
   "source": [
    "correct = 0\n",
    "total = 0\n",
    "label_token_ids = torch.Tensor([opt_label_tokens[\"negative\"], opt_label_tokens[\"positive\"]])\n",
    "for batch_num, batch in enumerate(dataloader):\n",
    "    prompts = create_prompt_str(optimized_prompt_1, batch[\"sentence\"])\n",
    "    labels = batch[\"label\"]\n",
    "    activations = model.get_activations(prompts, [last_layer_name], short_generation_config)\n",
    "    print(f\"Batch number {batch_num+1} Complete\")\n",
    "    for activations_single_prompt, label in zip(activations.activations, labels):\n",
    "        last_layer_matrix = activations_single_prompt[last_layer_name]\n",
    "        predicted_label = select_label_from_activations_opt(label_token_ids, last_layer_matrix)\n",
    "        if predicted_label == int(label.item()):\n",
    "            correct += 1\n",
    "        total += 1\n",
    "    if batch_num + 1 == batches_to_sample:\n",
    "        break\n",
    "accuracy = correct / total\n",
    "report.append((optimized_prompt_1, accuracy))"
   ]
  },
  {
   "cell_type": "code",
   "execution_count": null,
   "metadata": {},
   "outputs": [],
   "source": [
    "print(f\"Accuracy: {accuracy}\")"
   ]
  },
  {
   "cell_type": "code",
   "execution_count": null,
   "metadata": {},
   "outputs": [],
   "source": [
    "correct = 0\n",
    "total = 0\n",
    "label_token_ids = torch.Tensor([opt_label_tokens[\"negative\"], opt_label_tokens[\"positive\"]])\n",
    "for batch_num, batch in enumerate(dataloader):\n",
    "    prompts = create_prompt_str(optimized_prompt_2, batch[\"sentence\"])\n",
    "    labels = batch[\"label\"]\n",
    "    activations = model.get_activations(prompts, [last_layer_name], short_generation_config)\n",
    "    print(f\"Batch number {batch_num+1} Complete\")\n",
    "    for activations_single_prompt, label in zip(activations.activations, labels):\n",
    "        last_layer_matrix = activations_single_prompt[last_layer_name]\n",
    "        predicted_label = select_label_from_activations_opt(label_token_ids, last_layer_matrix)\n",
    "        if predicted_label == int(label.item()):\n",
    "            correct += 1\n",
    "        total += 1\n",
    "    if batch_num + 1 == batches_to_sample:\n",
    "        break\n",
    "accuracy = correct / total\n",
    "report.append((optimized_prompt_2, accuracy))"
   ]
  },
  {
   "cell_type": "code",
   "execution_count": null,
   "metadata": {},
   "outputs": [],
   "source": [
    "print(f\"Accuracy: {accuracy}\")"
   ]
  },
  {
   "attachments": {},
   "cell_type": "markdown",
   "metadata": {},
   "source": [
    "### HugggingFace T5"
   ]
  },
  {
   "attachments": {},
   "cell_type": "markdown",
   "metadata": {},
   "source": [
    "Let's try these prompts in the context of the original T5 model from HuggingFace"
   ]
  },
  {
   "cell_type": "code",
   "execution_count": 28,
   "metadata": {},
   "outputs": [],
   "source": [
    "# Instantiate the model and set it to eval mode\n",
    "t5_model = T5ForConditionalGeneration.from_pretrained(\"google/t5-large-lm-adapt\").eval()"
   ]
  },
  {
   "cell_type": "code",
   "execution_count": 29,
   "metadata": {},
   "outputs": [],
   "source": [
    "def create_encoder_decoder_inputs(\n",
    "    prompts: List[str], t5_tokenizer: Union[PreTrainedTokenizer, PreTrainedTokenizerFast]\n",
    ") -> Tuple[BatchEncoding, BatchEncoding]:\n",
    "    # Repeat each prompt twice (once for each label)\n",
    "    repeated_prompts = [prompt for prompt in prompts for i in range(2)]\n",
    "    # repeat label words for each repeated prompt\n",
    "    decoder_labels = [f\"{label_word} </s>\" for label_word in label_words] * len(prompts)\n",
    "    encoder_inputs = t5_tokenizer(\n",
    "        repeated_prompts,\n",
    "        truncation=True,\n",
    "        padding=\"max_length\",\n",
    "        max_length=64,\n",
    "        add_special_tokens=False,\n",
    "        return_tensors=\"pt\",\n",
    "    )\n",
    "    decoder_inputs = t5_tokenizer(\n",
    "        decoder_labels,\n",
    "        truncation=True,\n",
    "        padding=\"max_length\",\n",
    "        max_length=16,\n",
    "        add_special_tokens=False,\n",
    "        return_tensors=\"pt\",\n",
    "    )\n",
    "    return encoder_inputs, decoder_inputs"
   ]
  },
  {
   "cell_type": "code",
   "execution_count": 30,
   "metadata": {},
   "outputs": [],
   "source": [
    "def get_likelihoods_from_t5_ouput(\n",
    "    output: Seq2SeqLMOutput, loss_func: torch.nn.CrossEntropyLoss, decoder_ids: torch.Tensor\n",
    ") -> torch.Tensor:\n",
    "    loss_func = torch.nn.CrossEntropyLoss(ignore_index=-100, reduction=\"none\")\n",
    "    # Negative of the loss to get back to raw log-probabilities\n",
    "    log_likelihoods = -loss_func(output.logits.view(-1, output.logits.size(-1)), decoder_ids.view(-1))\n",
    "    batch_size, sequence_length, _ = output.logits.size()\n",
    "    # compute per-token log probability in a sequence.\n",
    "    # log_p has log probabilities for the following target output: [pos, it, ive]\n",
    "    log_likelihoods = log_likelihoods.view(batch_size, sequence_length)\n",
    "    # pad tokens have index -100 in huggingface.\n",
    "    good_log_p = log_likelihoods.masked_fill_(decoder_ids == -100, 0.0)\n",
    "    # good_log_p now has the log probability of the output sequence tokens.\n",
    "    # sum over the sequence length to compute the log probability for a full sequence.\n",
    "    return torch.sum(good_log_p, dim=1).squeeze()"
   ]
  },
  {
   "cell_type": "code",
   "execution_count": 31,
   "metadata": {},
   "outputs": [],
   "source": [
    "def run_t5_model_on_encodings(\n",
    "    encoder_encodings: BatchEncoding, decoder_encodings: BatchEncoding, t5_model: T5ForConditionalGeneration\n",
    ") -> Tuple[Seq2SeqLMOutput, torch.Tensor]:\n",
    "    decoder_ids = decoder_encodings.input_ids\n",
    "    # we have to make sure that the PAD token is ignored.\n",
    "    # huggingface ignores a pad token if the token is -100!\n",
    "    decoder_ids = decoder_ids.masked_fill(decoder_ids == t5_tokenizer.pad_token_id, -100)\n",
    "    # Disable gradient tracking for faster inference\n",
    "    with torch.no_grad():\n",
    "        model_output = t5_model(\n",
    "            input_ids=encoder_encodings.input_ids,\n",
    "            attention_mask=encoder_encodings.attention_mask,\n",
    "            decoder_attention_mask=decoder_encodings.attention_mask,\n",
    "            decoder_input_ids=t5_model._shift_right(decoder_ids),\n",
    "            labels=None,\n",
    "        )\n",
    "    return model_output, decoder_ids"
   ]
  },
  {
   "cell_type": "code",
   "execution_count": 32,
   "metadata": {},
   "outputs": [],
   "source": [
    "def extract_label_from_likelihoods(softmax_func: nn.Softmax, likelihoods: torch.Tensor) -> torch.tensor:\n",
    "    # Pair the likelihoods associated with negative and positive labels for each prompt\n",
    "    likelihoods = likelihoods.reshape(-1, 2)\n",
    "    likelihoods = softmax_func(likelihoods)\n",
    "    return torch.argmax(likelihoods, dim=1)"
   ]
  },
  {
   "cell_type": "code",
   "execution_count": 34,
   "metadata": {},
   "outputs": [
    {
     "name": "stdout",
     "output_type": "stream",
     "text": [
      "Batch number 1 Complete\n",
      "Batch number 2 Complete\n",
      "Batch number 3 Complete\n",
      "Batch number 4 Complete\n",
      "Batch number 5 Complete\n",
      "Batch number 6 Complete\n",
      "Batch number 7 Complete\n",
      "Batch number 8 Complete\n",
      "Batch number 9 Complete\n",
      "Batch number 10 Complete\n",
      "Batch number 11 Complete\n",
      "Batch number 12 Complete\n",
      "Batch number 13 Complete\n",
      "Batch number 14 Complete\n",
      "Batch number 15 Complete\n",
      "Batch number 16 Complete\n",
      "Batch number 17 Complete\n",
      "Batch number 18 Complete\n",
      "Batch number 19 Complete\n",
      "Batch number 20 Complete\n",
      "Accuracy: 0.699999988079071\n"
     ]
    }
   ],
   "source": [
    "correct = 0\n",
    "total = 0\n",
    "# We're going to use a loss function to extra the log probabilties of the labels.\n",
    "loss_func = nn.CrossEntropyLoss(ignore_index=-100, reduction=\"none\")\n",
    "softmax = nn.Softmax(dim=1)\n",
    "for batch_num, batch in enumerate(dataloader):\n",
    "    prompts = [f\"{prompt} </s>\" for prompt in create_prompt_str(initial_prompt, batch[\"sentence\"])]\n",
    "    labels = batch[\"label\"]\n",
    "    encoder_encodings, decoder_encodings = create_encoder_decoder_inputs(prompts, t5_tokenizer)\n",
    "    model_output, decoder_ids = run_t5_model_on_encodings(encoder_encodings, decoder_encodings, t5_model)\n",
    "    likelihoods = get_likelihoods_from_t5_ouput(model_output, loss_func, decoder_ids)\n",
    "    predicted_labels = extract_label_from_likelihoods(softmax, likelihoods)\n",
    "    match_tensor = (predicted_labels == labels).long()\n",
    "    correct += torch.sum(match_tensor)\n",
    "    total += len(match_tensor)\n",
    "    print(f\"Batch number {batch_num+1} Complete\")\n",
    "    if batch_num + 1 == batches_to_sample:\n",
    "        break\n",
    "accuracy = correct / total\n",
    "\n",
    "report.append((initial_prompt, accuracy))"
   ]
  },
  {
   "cell_type": "code",
   "execution_count": null,
   "metadata": {},
   "outputs": [],
   "source": [
    "print(f\"Accuracy: {accuracy}\")"
   ]
  },
  {
   "cell_type": "code",
   "execution_count": 35,
   "metadata": {},
   "outputs": [
    {
     "name": "stdout",
     "output_type": "stream",
     "text": [
      "Batch number 1 Complete\n",
      "Batch number 2 Complete\n",
      "Batch number 3 Complete\n",
      "Batch number 4 Complete\n",
      "Batch number 5 Complete\n",
      "Batch number 6 Complete\n",
      "Batch number 7 Complete\n",
      "Batch number 8 Complete\n",
      "Batch number 9 Complete\n",
      "Batch number 10 Complete\n",
      "Batch number 11 Complete\n",
      "Batch number 12 Complete\n",
      "Batch number 13 Complete\n",
      "Batch number 14 Complete\n",
      "Batch number 15 Complete\n",
      "Batch number 16 Complete\n",
      "Batch number 17 Complete\n",
      "Batch number 18 Complete\n",
      "Batch number 19 Complete\n",
      "Batch number 20 Complete\n",
      "Accuracy: 0.75\n"
     ]
    }
   ],
   "source": [
    "correct = 0\n",
    "total = 0\n",
    "# We're going to use a loss function to extra the log probabilties of the labels.\n",
    "loss_func = nn.CrossEntropyLoss(ignore_index=-100, reduction=\"none\")\n",
    "softmax = nn.Softmax(dim=1)\n",
    "for batch_num, batch in enumerate(dataloader):\n",
    "    prompts = [f\"{prompt} </s>\" for prompt in create_prompt_str(optimized_prompt_1, batch[\"sentence\"])]\n",
    "    labels = batch[\"label\"]\n",
    "    encoder_encodings, decoder_encodings = create_encoder_decoder_inputs(prompts, t5_tokenizer)\n",
    "    model_output, decoder_ids = run_t5_model_on_encodings(encoder_encodings, decoder_encodings, t5_model)\n",
    "    likelihoods = get_likelihoods_from_t5_ouput(model_output, loss_func, decoder_ids)\n",
    "    predicted_labels = extract_label_from_likelihoods(softmax, likelihoods)\n",
    "    match_tensor = (predicted_labels == labels).long()\n",
    "    correct += torch.sum(match_tensor)\n",
    "    total += len(match_tensor)\n",
    "    print(f\"Batch number {batch_num+1} Complete\")\n",
    "    if batch_num + 1 == batches_to_sample:\n",
    "        break\n",
    "accuracy = correct / total\n",
    "report.append((optimized_prompt_1, accuracy))"
   ]
  },
  {
   "cell_type": "code",
   "execution_count": null,
   "metadata": {},
   "outputs": [],
   "source": [
    "print(f\"Accuracy: {accuracy}\")"
   ]
  },
  {
   "cell_type": "code",
   "execution_count": 36,
   "metadata": {},
   "outputs": [
    {
     "name": "stdout",
     "output_type": "stream",
     "text": [
      "Batch number 1 Complete\n",
      "Batch number 2 Complete\n",
      "Batch number 3 Complete\n",
      "Batch number 4 Complete\n",
      "Batch number 5 Complete\n",
      "Batch number 6 Complete\n",
      "Batch number 7 Complete\n",
      "Batch number 8 Complete\n",
      "Batch number 9 Complete\n",
      "Batch number 10 Complete\n",
      "Batch number 11 Complete\n",
      "Batch number 12 Complete\n",
      "Batch number 13 Complete\n",
      "Batch number 14 Complete\n",
      "Batch number 15 Complete\n",
      "Batch number 16 Complete\n",
      "Batch number 17 Complete\n",
      "Batch number 18 Complete\n",
      "Batch number 19 Complete\n",
      "Batch number 20 Complete\n",
      "Accuracy: 0.7549999952316284\n"
     ]
    }
   ],
   "source": [
    "correct = 0\n",
    "total = 0\n",
    "# We're going to use a loss function to extra the log probabilties of the labels.\n",
    "loss_func = nn.CrossEntropyLoss(ignore_index=-100, reduction=\"none\")\n",
    "softmax = nn.Softmax(dim=1)\n",
    "for batch_num, batch in enumerate(dataloader):\n",
    "    prompts = [f\"{prompt} </s>\" for prompt in create_prompt_str(optimized_prompt_2, batch[\"sentence\"])]\n",
    "    labels = batch[\"label\"]\n",
    "    encoder_encodings, decoder_encodings = create_encoder_decoder_inputs(prompts, t5_tokenizer)\n",
    "    model_output, decoder_ids = run_t5_model_on_encodings(encoder_encodings, decoder_encodings, t5_model)\n",
    "    likelihoods = get_likelihoods_from_t5_ouput(model_output, loss_func, decoder_ids)\n",
    "    predicted_labels = extract_label_from_likelihoods(softmax, likelihoods)\n",
    "    match_tensor = (predicted_labels == labels).long()\n",
    "    correct += torch.sum(match_tensor)\n",
    "    total += len(match_tensor)\n",
    "    print(f\"Batch number {batch_num+1} Complete\")\n",
    "    if batch_num + 1 == batches_to_sample:\n",
    "        break\n",
    "accuracy = correct / total\n",
    "report.append((optimized_prompt_2, accuracy))"
   ]
  },
  {
   "cell_type": "code",
   "execution_count": null,
   "metadata": {},
   "outputs": [],
   "source": [
    "print(f\"Accuracy: {accuracy}\")"
   ]
  },
  {
   "cell_type": "code",
   "execution_count": 37,
   "metadata": {},
   "outputs": [
    {
     "name": "stdout",
     "output_type": "stream",
     "text": [
      "Summary\n",
      "Prompt: Generate the sentiment of the next sentence. , Accuracy: 0.6549999713897705\n",
      "Prompt: tumour negative .05. Positive respins the Contains sentence. , Accuracy: 0.5849999785423279\n",
      "Prompt: childcare negative .05. Positive respins wSt Thank sentence. , Accuracy: 0.46000000834465027\n",
      "Prompt: Generate the sentiment of the next sentence. , Accuracy: 0.699999988079071\n",
      "Prompt: tumour negative .05. Positive respins the Contains sentence. , Accuracy: 0.75\n",
      "Prompt: childcare negative .05. Positive respins wSt Thank sentence. , Accuracy: 0.7549999952316284\n"
     ]
    }
   ],
   "source": [
    "print(\"Summary\")\n",
    "for prompt, acc in report:\n",
    "    print(f\"Prompt: {prompt}, Accuracy: {acc}\")"
   ]
  }
 ],
 "metadata": {
  "kernelspec": {
   "display_name": "opt_notebook",
   "language": "python",
   "name": "python3"
  },
  "language_info": {
   "codemirror_mode": {
    "name": "ipython",
    "version": 3
   },
   "file_extension": ".py",
   "mimetype": "text/x-python",
   "name": "python",
   "nbconvert_exporter": "python",
   "pygments_lexer": "ipython3",
   "version": "3.9.16"
  },
  "orig_nbformat": 4
 },
 "nbformat": 4,
 "nbformat_minor": 2
}
